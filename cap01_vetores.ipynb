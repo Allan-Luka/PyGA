{
  "nbformat": 4,
  "nbformat_minor": 0,
  "metadata": {
    "colab": {
      "provenance": [],
      "authorship_tag": "ABX9TyMlftYj2p1AEzuOMUA37F8b",
      "include_colab_link": true
    },
    "kernelspec": {
      "name": "python3",
      "display_name": "Python 3"
    },
    "language_info": {
      "name": "python"
    }
  },
  "cells": [
    {
      "cell_type": "markdown",
      "metadata": {
        "id": "view-in-github",
        "colab_type": "text"
      },
      "source": [
        "<a href=\"https://colab.research.google.com/github/Allan-Luka/PyGA/blob/main/cap01_vetores.ipynb\" target=\"_parent\"><img src=\"https://colab.research.google.com/assets/colab-badge.svg\" alt=\"Open In Colab\"/></a>"
      ]
    },
    {
      "cell_type": "markdown",
      "source": [
        "# Capítulo 1: Vetores"
      ],
      "metadata": {
        "id": "WG69lHIzCt_O"
      }
    },
    {
      "cell_type": "markdown",
      "source": [
        "#### Objetivos:\n",
        "- Representação de vetores no plano e no espaço tridimensional;\n",
        "- Operações básicas com vetores, como adição, subtração e multiplicação por escalar;\n",
        "- Norma de um vetor e vetor unitário.\n",
        "\n",
        "**Orientação:**Os códigos que possuem representação geral, foram elaborados como forma interativa.\n"
      ],
      "metadata": {
        "id": "PpTdmL71KuzY"
      }
    },
    {
      "cell_type": "markdown",
      "source": [
        "###Definição (pág.1)\n",
        "\n",
        "Existe dois grupos de grandezas, as escalares e as vetoriais. As escalares são definidas por apenas um número real e sua unidade de medida adequada. Dentre elas podemos destacar, comprimento, área, volume, temperatura, densidade, são classificadas como grandezas escalares. Já temos algumas grandezas, que não se classificam apenas pela sua intensidade (módulo) e necessitam de mais informações, como é o caso das vetoriais que necessitamos indicar a sua intensidade (módulo), direção e sentido. Podemos destacar como grandezas vetoriais a força, velocidade, aceleração."
      ],
      "metadata": {
        "id": "MCX76J9cLD4q"
      }
    },
    {
      "cell_type": "markdown",
      "source": [
        "### Representação de vetores no plano e no espaço tridimensional"
      ],
      "metadata": {
        "id": "mu0BI851LL4J"
      }
    },
    {
      "cell_type": "markdown",
      "source": [
        "**Representação do vetor no plano**: (pág.18-20)\n",
        "\n",
        "\n",
        "$\\vec{v}=(x,y)$, um par ordenado de números reais;\n",
        "\n",
        "$\\vec{v}=x\\hat{i}+y\\hat{j}$, onde $\\hat{i}$ e $\\hat{j}$ são as direções dos vetores unitários;\n",
        "\n",
        "$\\vec{v}=(a_{1},a_{2})$, onde $a_{1}$ e $a_{2}$ são números reais quaisquer.\n",
        "\n",
        "\n",
        "\n",
        "\n",
        "**Representação do vetor no espaço tridimensional**:(pág.32-34)\n",
        "\n",
        "$\\vec{v}=(x,y,z)$;\n",
        "\n",
        "$\\vec{v}=x\\hat{i}+y\\hat{j}+z\\hat{k}$, onde $\\hat{i}$, $\\hat{j}$ e $\\hat{k}$ são as direções dos vetores unitários;\n",
        "\n",
        "$\\vec{v}=(a_{1},a_{2},a_{3})$, onde $a_{1}$, $a_{2}$ e $a_{3}$ são números reais quaisquer.\n",
        "\n",
        "\n",
        "**Exemplo**:\n",
        "\n",
        "$\\vec{v}$=$(2, 3)$ ou $\\vec{v}$=$2\\hat{i} + 3\\hat{j}$\n",
        "\n",
        "$\\vec{v}$=$(2, 3, 9)$ ou $\\vec{v}$=$2\\hat{i} + 3\\hat{j} + 9\\hat{k}$\n"
      ],
      "metadata": {
        "id": "StmQXpxFLTh6"
      }
    },
    {
      "cell_type": "markdown",
      "source": [
        "###Parte computacional - Representação de  vetores no IR2"
      ],
      "metadata": {
        "id": "XHmw7gdPLjOE"
      }
    },
    {
      "cell_type": "code",
      "execution_count": null,
      "metadata": {
        "id": "BEWWHuP1QP1O"
      },
      "outputs": [],
      "source": [
        "#VETOR NO IR2\n",
        "\n",
        "#Importa a biblioteca matplotlib.pyplot usada para criar o gráfico:\n",
        "\n",
        "import matplotlib.pyplot as plt\n",
        "\n",
        "#Definindo as variáveis:\n",
        "\n",
        "x0 = 0\n",
        "y0 = 0\n",
        "\n",
        "#Amarzenando as variáveis na lista (origem):\n",
        "\n",
        "origem = [x0, y0]\n",
        "\n",
        "#Dando um título ao gráfico:\n",
        "\n",
        "plt.title('Vetor 2D')\n",
        "\n",
        "#Definindo as variáveis do vetor:\n",
        "\n",
        "x = 2\n",
        "y = -1\n",
        "\n",
        "#Amarzenando as variáveis na lista (vetor):\n",
        "\n",
        "vetor = [x, y]\n",
        "\n",
        "#Criando os eixos do gráfico:\n",
        "\n",
        "ax = plt.axes()\n",
        "\n",
        "#Limitando os eixos:\n",
        "\n",
        "ax.set_xlim([-4, 4])\n",
        "ax.set_ylim([-4, 4])\n",
        "\n",
        "#O ax.quiver desenha o vetor a partir do ponto de origem (x0, y0) até o ponto (x, y).\n",
        "#O vetor é desenhado na cor vermelha (color='r').\n",
        "#O parâmetro angles='xy' indica que as coordenadas são fornecidas no plano cartesiano\n",
        "#scale_units='xy', scale=1 define a escala do vetor.\n",
        "\n",
        "ax.quiver(x0, y0, x, y, angles='xy', scale_units='xy', scale=1, color='r')\n",
        "\n",
        "#Exibindo as coordenadas do vetor no ponto final (x, y):\n",
        "\n",
        "ax.annotate(f'v({vetor[0]}, {vetor[1]})', (vetor[0], vetor[1]), fontsize=10)\n",
        "\n",
        "#Desenhando os eixos x e y representado na cor preta:\n",
        "\n",
        "plt.plot([-4, 4], [0, 0], color='black')\n",
        "plt.plot([0, 0], [-4, 4], color='black')\n",
        "\n",
        "#Ativa a grade no fundo do gráfico para facilitar a visualizção:\n",
        "\n",
        "ax.grid(True)"
      ]
    },
    {
      "cell_type": "code",
      "source": [
        "#VETOR NO IR2 - REPRESENTAÇÃO GERAL\n",
        "\n",
        "import matplotlib.pyplot as plt\n",
        "\n",
        "x0 = 0\n",
        "y0 = 0\n",
        "origem = [x0, y0]\n",
        "\n",
        "plt.title('Vetor 2D')\n",
        "\n",
        "#Solicita ao usuário que insira os valores para as componentes x e y do vetor:\n",
        "\n",
        "x = float(input('Digite o valor da componentes x: '))\n",
        "y = float(input('Digite o valor da componentes y: '))\n",
        "vetor = [x, y]\n",
        "\n",
        "#Criando os eixos do gráfico:\n",
        "\n",
        "ax = plt.axes()\n",
        "\n",
        "#Limitando os eixos:\n",
        "\n",
        "ax.set_xlim([-10, 10])\n",
        "ax.set_ylim([-10, 10])\n",
        "\n",
        "#O ax.quiver desenha o vetor a partir do ponto de origem (x0, y0) até o ponto (x, y).\n",
        "#O vetor é desenhado na cor vermelha (color='r').\n",
        "#O parâmetro angles='xy' indica que as coordenadas são fornecidas no plano cartesiano\n",
        "#scale_units='xy', scale=1 define a escala do vetor.\n",
        "\n",
        "ax.quiver(x0, y0, x, y, angles='xy', scale_units='xy', scale=1, color='r')\n",
        "ax.annotate(f'v({vetor[0]}, {vetor[1]})', (vetor[0], vetor[1]), fontsize=10)\n",
        "\n",
        "#Desenhando os eixos x e y representado na cor preta:\n",
        "\n",
        "plt.plot([-10, 10], [0, 0], color='black')\n",
        "plt.plot([0, 0], [-10, 10], color='black')\n",
        "\n",
        "#Ativa a grade no fundo do gráfico para facilitar a visualizção:\n",
        "\n",
        "ax.grid(True)"
      ],
      "metadata": {
        "id": "zAA0rEsXLzIF"
      },
      "execution_count": null,
      "outputs": []
    },
    {
      "cell_type": "markdown",
      "source": [
        "### Parte computacional - Representação de vetores no IR3"
      ],
      "metadata": {
        "id": "AsC26g7CMDHP"
      }
    },
    {
      "cell_type": "code",
      "source": [
        "#VETOR NO IR3\n",
        "\n",
        "import matplotlib.pyplot as plt\n",
        "\n",
        "#Defininco as variáveis do vetor:\n",
        "\n",
        "x = 3\n",
        "y = 4\n",
        "z = 5\n",
        "\n",
        "vetor = [x, y, z]\n",
        "origem = [0, 0, 0]\n",
        "\n",
        "#Cria uma nova figura para o gráfico 3D:\n",
        "\n",
        "fig = plt.figure()\n",
        "\n",
        "#Título do gráfico:\n",
        "\n",
        "plt.title('Vetor 3D')\n",
        "\n",
        "#Cria um objeto de eixo 3D\n",
        "\n",
        "ax = plt.axes(projection='3d')\n",
        "\n",
        "#Limitando os eixos:\n",
        "\n",
        "ax.set_xlim([-10, 10])\n",
        "ax.set_ylim([-10, 10])\n",
        "ax.set_zlim([-10, 10])\n",
        "\n",
        "\n",
        "ax.quiver(origem[0], origem[1], origem[2], x, y, z, color='red')\n"
      ],
      "metadata": {
        "id": "TtTJSGleMEYN"
      },
      "execution_count": null,
      "outputs": []
    },
    {
      "cell_type": "code",
      "source": [
        "#VETOR NO IR3 - REPRESENTAÇÃO GERAL\n",
        "\n",
        "import matplotlib.pyplot as plt\n",
        "\n",
        "#Solicita ao usuário que insira os valores para as componentes x e y do vetor:\n",
        "\n",
        "x = float(input('Digite o valor da componente x: '))\n",
        "y = float(input('Digite o valor da componente y: '))\n",
        "z = float(input('Digite o valor da componente z: '))\n",
        "\n",
        "vetor = [x, y, z]\n",
        "origem = [0, 0, 0]\n",
        "\n",
        "#Cria uma nova figura para o gráfico 3D:\n",
        "\n",
        "fig = plt.figure()\n",
        "\n",
        "#Título do gráfico:\n",
        "\n",
        "plt.title('Vetor 3D')\n",
        "\n",
        "#Cria um objeto de eixo 3D:\n",
        "\n",
        "ax = plt.axes(projection='3d')\n",
        "\n",
        "#Limitando os eixos:\n",
        "\n",
        "ax.set_xlim([-20, 20])\n",
        "ax.set_ylim([-20, 20])\n",
        "ax.set_zlim([-20, 20])\n",
        "\n",
        "\n",
        "\n",
        "ax.quiver(origem[0], origem[1], origem[2], x, y, z, color='red')\n"
      ],
      "metadata": {
        "id": "Jfm3XhZ5MPXP"
      },
      "execution_count": null,
      "outputs": []
    },
    {
      "cell_type": "markdown",
      "source": [
        "### Operações básicas com vetores:"
      ],
      "metadata": {
        "id": "IJ-GRxjgMXRy"
      }
    },
    {
      "cell_type": "markdown",
      "source": [
        "**Soma de vetores**:(pág.7,8,21)\n",
        "\n",
        "**Vetores no IR2:**\n",
        "Para realizar a soma de dois vetores em duas dimensões utilizaremos $\\vec{v}_{1}=(x_{1},y_{1})$ e $\\vec{v}_{2}=(x_{2},y_{2})$.\n",
        "\n",
        "$\\vec{v}_{1}$ + $\\vec{v}_{2}$ = $(x_{1} + x_{2}, y_{1} + y_{2}) $\n",
        "\n",
        "**Vetores no IR3:**\n",
        "Para realizar a soma de dois vetores em três dimensões utilizaremos $\\vec{v}_{1}=(x_{1},y_{1},z_{1})$ e $\\vec{v}_{2}=(x_{2},y_{2},z_{2})$.\n",
        "\n",
        "$\\vec{v}_{1}$ + $\\vec{v}_{2}$ = $(x_{1} + x_{2}, y_{1} + y_{2}, z_{1} + z_{2}) $\n",
        "\n",
        "**Exemplo:**Realize a soma dos vetores $\\vec{v}_{1}=(1, 2, 3)$ e $\\vec{v}_{2}=(4, 5, 6)$.\n",
        "\n",
        "**Resolução:**$\\vec{v}_{1}$ + $\\vec{v}_{2} =(1+4,2+5,3+6)=(5, 7, 9)$\n",
        "\n",
        "**Subtração de vetores**:(pág.8)\n",
        "\n",
        "**Vetores no IR2:**\n",
        "Para realizar a subtração de dois vetores em duas dimensões utilizaremos $\\vec{v}_{1}=(x_{1},y_{1})$ e $\\vec{v}_{2}=(x_{2},y_{2})$.\n",
        "\n",
        "$\\vec{v}_{1}$ - $\\vec{v}_{2}$ = $(x_{1} - x_{2}, y_{1} - y_{2}) $\n",
        "\n",
        "**Vetores no IR3:**\n",
        "Para realizar a subtração de dois vetores em três dimensões utilizaremos $\\vec{v}_{1}=(x_{1},y_{1},z_{1})$ e $\\vec{v}_{2}=(x_{2},y_{2},z_{2})$.\n",
        "\n",
        "$\\vec{v}_{1}$ - $\\vec{v}_{2}$ = $(x_{1} - x_{2}, y_{1} - y_{2}, z_{1} - z_{2}) $\n",
        "\n",
        "**Exemplo:**Realize a subtração dos vetores $\\vec{v}_{1}=(1, 2, 3)$ e $\\vec{v}_{2}=(4, 5, 6)$\n",
        "\n",
        "**Resolução:**$\\vec{v}_{1}$ - $\\vec{v}_{2} = (1-4,2-5,3-6) = (-3, -3,-3)$\n",
        "\n",
        "**Multiplicação por um escalar**:(pág.10,11,21)\n",
        "\n",
        "\n",
        "O escalar $α$, vai multiplicar o vetor $\\vec{v}=(a_{1},a_{2},a_{3})$, teremos então:\n",
        "\n",
        "$α$$\\vec{v}=(a_{1},a_{2},a_{3})$\n",
        "\n",
        "Gerando como resultado:\n",
        "\n",
        "$\\vec{v}=(αa_{1},αa_{2},αa_{3})$\n",
        "\n",
        "**Exemplo:** O escalar $4$, vai multiplicar o vetor $\\vec{v}=(2,5,3)$, teremos então:\n",
        "\n",
        "**4**$\\vec{v}=(2,5,3)$\n",
        "\n",
        "Gerando como resultado:\n",
        "\n",
        "$\\vec{v}=(8,20,12)$"
      ],
      "metadata": {
        "id": "czFjN969Ma8b"
      }
    },
    {
      "cell_type": "markdown",
      "source": [
        "###Parte computacional - Adição de vetores"
      ],
      "metadata": {
        "id": "5tp4HqT0Mt_F"
      }
    },
    {
      "cell_type": "code",
      "source": [
        "#Soma de vetores\n",
        "\n",
        "import numpy as np\n",
        "\n",
        "# Criando vetores:\n",
        "\n",
        "v1 = np.array([1, 2, 3])\n",
        "v2 = np.array([4, 5, 6])\n",
        "\n",
        "# Soma de vetores:\n",
        "\n",
        "soma = v1 + v2\n",
        "\n",
        "print(\"Soma dos vetores é:\", soma)\n"
      ],
      "metadata": {
        "id": "XacM8lbgMtDO"
      },
      "execution_count": null,
      "outputs": []
    },
    {
      "cell_type": "markdown",
      "source": [
        "###Parte computacional - Subtração de vetores"
      ],
      "metadata": {
        "id": "B9l3HF5tM5k1"
      }
    },
    {
      "cell_type": "code",
      "source": [
        "#Subtração de vetores\n",
        "\n",
        "import numpy as np\n",
        "\n",
        "# Criar vetores\n",
        "v1 = np.array([1, 2, 3])\n",
        "v2 = np.array([4, 5, 6])\n",
        "\n",
        "# A subtração de vetores é:\n",
        "\n",
        "subtracao = v1 - v2\n",
        "\n",
        "print(\"Subtração dos vetores é:\", subtracao)"
      ],
      "metadata": {
        "id": "z9acx2RYM_ht"
      },
      "execution_count": null,
      "outputs": []
    },
    {
      "cell_type": "markdown",
      "source": [
        "###Parte computacional - Multiplicação de um vetor por um escalar"
      ],
      "metadata": {
        "id": "5FyAXHQoNFWP"
      }
    },
    {
      "cell_type": "code",
      "source": [
        "#Multiplicação por um escalar\n",
        "\n",
        "import numpy as np\n",
        "\n",
        "# Criando o vetor:\n",
        "\n",
        "v = np.array([1, 2, 3])\n",
        "\n",
        "# Escalar que desejamos multiplicar:\n",
        "\n",
        "escalar = 2\n",
        "\n",
        "# Multiplicação do vetor (v) por um escalar:\n",
        "\n",
        "resultado = escalar * v\n",
        "\n",
        "print(\"O resultado da multiplicação do vetor (v) pelo escalar é:\", resultado)"
      ],
      "metadata": {
        "id": "arZBU_hINIt2"
      },
      "execution_count": null,
      "outputs": []
    },
    {
      "cell_type": "markdown",
      "source": [
        "### Norma de um vetor"
      ],
      "metadata": {
        "id": "jFDUDw6uNSW2"
      }
    },
    {
      "cell_type": "markdown",
      "source": [
        "A norma de um vetor diz respeito ao seu tamanho no espaço:(pág.29)\n",
        "\n",
        "Representamos a norma do vetor $\\vec{v}$, sendo\n",
        "\n",
        "$\\vec{v}=(a_{1},a_{2})$ sendo sua norma, |$\\vec{v}$|= $\\sqrt[]{(a_{1})² + (a_{2})²}$\n",
        "\n",
        "$\\vec{v}=(a_{1},a_{2},a_{3})$, sendo sua norma, |$\\vec{v}$|= $\\sqrt[]{(a_{1})² + (a_{2})² + (a_{3})²}$\n",
        "\n",
        "**Exemplo:** Determine a norma do vetor $\\vec{v}=(2,3,4)$:\n",
        "\n",
        "$\\vec{v}=(2,3,4)$, então |$\\vec{v}$|$ = \\sqrt[]{(2)² + (3)² + (4)²}$=$\\sqrt[]{29}$"
      ],
      "metadata": {
        "id": "fM05uXZfNVne"
      }
    },
    {
      "cell_type": "markdown",
      "source": [
        "###Parte computacional - Cálculo do módulo de um vetor"
      ],
      "metadata": {
        "id": "YqjeWmJbNdXg"
      }
    },
    {
      "cell_type": "code",
      "source": [
        "#Cálculo do módulo de um vetor\n",
        "\n",
        "import numpy as np\n",
        "\n",
        "x = 1\n",
        "y = 2\n",
        "\n",
        "x2 = 5\n",
        "y2 = 6\n",
        "\n",
        "u = [x, y]\n",
        "v = [x2, y2]\n",
        "\n",
        "mod_u = np.sqrt((x**2 + y**2))\n",
        "mod_v = np.sqrt((x2**2 + y2**2))\n",
        "\n",
        "print('O modulo do vetor u é: |u|= {}' .format(round(mod_u, 2)))\n",
        "print('O modulo do vetor u é: |v|= {}' .format(round(mod_v, 2)))"
      ],
      "metadata": {
        "id": "JTfiev7aNeIv"
      },
      "execution_count": null,
      "outputs": []
    },
    {
      "cell_type": "code",
      "source": [
        "#Cálculo do módulo de um vetor - Representação geral\n",
        "\n",
        "import numpy as np\n",
        "\n",
        "x, y = (float(i) for i in input('Digite o valor das componentes x e y: ').split())\n",
        "x2, y2 = (float(i) for i in input('Digite o valor das componentes x e y: ').split())\n",
        "\n",
        "u = [x, y]\n",
        "v = [x2, y2]\n",
        "\n",
        "mod_u = np.sqrt((x**2 + y**2))\n",
        "mod_v = np.sqrt((x2**2 + y2**2))\n",
        "\n",
        "print('O modulo do vetor u é: |u|= {}' .format(round(mod_u, 2)))\n",
        "print('O modulo do vetor v é: |v|= {}' .format(round(mod_v, 2)))"
      ],
      "metadata": {
        "id": "2-oTTGRENpOP"
      },
      "execution_count": null,
      "outputs": []
    },
    {
      "cell_type": "markdown",
      "source": [
        "### Vetor Unitário"
      ],
      "metadata": {
        "id": "dXpZRGIWNsM3"
      }
    },
    {
      "cell_type": "markdown",
      "source": [
        "O vetor unitário ou versor é definido como sendo o vetor cuja norma é sempre igual a 1, podemos citar os vetores da base canônica:(pág.29)\n",
        "\n",
        "$\\vec{v}$=$(1, 0, 0)$, vetor unitário que tem norma igual a 1, aponta na direção e sentido da reta do eixo X, sua norma |$\\vec{v}$|=$\\sqrt{(1)^{2}+(0)^{2}+(0)^{2}}$ = $\\sqrt{1}$ = $1$\n",
        "\n",
        "\n",
        "$\\vec{v}$=$(0, 1, 0)$, vetor unitário que tem norma igual a 1, aponta na direção e sentido da reta do eixo Y; |$\\vec{v}$|=$\\sqrt{(0)^{2}+(1)^{2}+(0)^{2}}$  = $\\sqrt{1}$ = $1$\n",
        "\n",
        "\n",
        "$\\vec{v}$=$(0, 0, 1)$, vetor unitário que tem norma igual a 1, aponta na direção e sentido da reta do eixo Z; |$\\vec{v}$|=$\\sqrt{(0)^{2}+(0)^{2}+(1)^{2}}$  = $\\sqrt{1}$ = $1$\n",
        "\n",
        "\n",
        "Podemos tambem dividir um vetor por sua norma, resultando no seu versor que é um vetor unitário:\n",
        "\n",
        "$\\frac{\\vec{v}}{\\left| \\vec{v} \\right|}$\n",
        "\n",
        "\n",
        "**Exemplo:** Dado o vetor $\\vec{v}$=$(3, -4)$ seu versor $\\vec{u}$ será:\n",
        "\n",
        "$\\vec{u}$=$\\frac{\\vec{v}}{\\left| \\vec{v} \\right|}$=$\\frac{(3,-4)}{\\sqrt{(3)^{2}+(-4)^{2}}}$=$\\frac{(3, -4)}{\\sqrt{25}}$= $\\frac{(3, -4)}{5}$\n",
        "\n",
        "Comprovando que o vator que encontramos é unitário:\n",
        "\n",
        " $\\vec{u}=(\\frac{3}{5},\\frac{-4}{5})$ é um vetor unitário pois:\n",
        "\n",
        "|$\\vec{u}$|=$\\sqrt{(\\frac{3}{5})^{2}+(\\frac{-4}{5})^{2}}$ = $\\sqrt{(\\frac{9}{25})+(\\frac{16}{25})}$ = $1$"
      ],
      "metadata": {
        "id": "ABxEJtikNuhq"
      }
    }
  ]
}
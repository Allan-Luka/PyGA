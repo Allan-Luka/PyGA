{
  "nbformat": 4,
  "nbformat_minor": 0,
  "metadata": {
    "colab": {
      "provenance": [],
      "authorship_tag": "ABX9TyPkWX4AQdSui1Zs8K+cgRvb",
      "include_colab_link": true
    },
    "kernelspec": {
      "name": "python3",
      "display_name": "Python 3"
    },
    "language_info": {
      "name": "python"
    }
  },
  "cells": [
    {
      "cell_type": "markdown",
      "metadata": {
        "id": "view-in-github",
        "colab_type": "text"
      },
      "source": [
        "<a href=\"https://colab.research.google.com/github/Allan-Luka/PyGA/blob/main/cap03_produto_vetorial.ipynb\" target=\"_parent\"><img src=\"https://colab.research.google.com/assets/colab-badge.svg\" alt=\"Open In Colab\"/></a>"
      ]
    },
    {
      "cell_type": "markdown",
      "source": [
        "#Capítulo 3: Produto Vetorial"
      ],
      "metadata": {
        "id": "8XNJ8nAmtFuy"
      }
    },
    {
      "cell_type": "markdown",
      "source": [
        "## Objetivos:\n",
        "- Definição e propriedades do produto vetorial;\n",
        "- Cálculo do produto vetorial entre dois vetores;\n",
        "- Aplicações do produto vetorial em geometria analítica, física e engenharia.\n",
        "\n",
        "**Obs:** Os códigos que possuem (representação geral), tem como objetivo um formato mais interativo, permite que o usuário insira os dados."
      ],
      "metadata": {
        "id": "illrtNmktHOL"
      }
    },
    {
      "cell_type": "markdown",
      "source": [
        "### Definição (pág.74-77)\n",
        "O produto vetorial é uma operação matemática que realizamos com vetores, afim de determinar um novo vetor que possui como característica ser ortogonal ao mesmo tempo aos dois vetores que o gerou.\n",
        "\n",
        "\n",
        "###Definição Geométrica (pág.79)\n",
        "\n",
        "$\\vec{u}$ X $\\vec{v}$= |$\\vec{u}$| |$\\vec{v}$| $sen$ $θ$ $\\hat{n}$, onde $θ$ é o ângulo entre os vetores $u$ e $v$.\n",
        "\n",
        "### Propriedades do produto vetorial (pág.81)\n",
        "\n",
        "Para definir as propriedades do produto vetorial vamos utilizar três vetores, $\\vec{u}$, $\\vec{v}$ e $\\vec{w}$, junto com o escalar $α$:\n",
        "\n",
        "1ª O produto vetorial não é associativo, ou seja, ($\\vec{u}$X$\\vec{v}$)X$\\vec{w}$ ≠ $\\vec{u}$X($\\vec{v}$X$\\vec{w}$);\n",
        "\n",
        "2ª $\\vec{u}$ X ($\\vec{v}$ + $\\vec{w}$)=($\\vec{u}$X$\\vec{v}$)+($\\vec{u}$X$\\vec{w}$) e ($\\vec{v}$+$\\vec{w}$)X$\\vec{w}$=($\\vec{v}$X$\\vec{w}$)+($\\vec{u}$X$\\vec{w}$);\n",
        "\n",
        "3ª $α$($\\vec{u}$X$\\vec{v}$)= ($α$$\\vec{u}$)X$\\vec{v}$=$\\vec{u}$X($α$$\\vec{v}$);\n",
        "\n",
        "4ª $\\vec{u}$ . ($\\vec{v}$X$\\vec{w}$)= ($\\vec{u}$X$\\vec{v}$) . $\\vec{w}$"
      ],
      "metadata": {
        "id": "R6Kk0meZtVDZ"
      }
    },
    {
      "cell_type": "markdown",
      "source": [
        "###Cálculo do produto vetorial entre dois vetores (pág.75)\n",
        "\n",
        "Para o cálculo do produto vetorial utilizaremos dois vetores genéricos, $\\vec{u}$=$(x_{1}, y_{1}, z_{1})$ e $\\vec{v}$=$(x_{2}, y_{2}, z_{2})$ e os vetores unitários $\\hat{i}$, $\\hat{j}$, $\\hat{k}$, então $\\vec{u}$ X $\\vec{v}$ é definido como sendo:\n",
        "\n",
        "$\\vec{u}$ X $\\vec{v}$= $\\begin{vmatrix}\n",
        "\\hat{i} & \\hat{j} &  \\hat{k}\\\\{x_{1}} &{y_{1}}  & {z_{1}} \\\\{x_{2}} & {y_{2}} & {z_{2}}\n",
        "\\end{vmatrix}$\n",
        "\n",
        "\n",
        "\n",
        "**Exemplo**: Calcular $\\vec{u}$ X $\\vec{v}$ sabendo que $\\vec{u}=5\\hat{i}+4\\hat{j}+3 \\hat{k}$ e $\\vec{v}=1\\hat{i}+1 \\hat{k}$.\n",
        "\n",
        "$\\vec{u}$ X $\\vec{v}$= $\\begin{vmatrix}\n",
        "\\hat{i} & \\hat{j} &  \\hat{k}\\\\5 &4  & 3 \\\\1 & 0 & 1\n",
        "\\end{vmatrix}$ = $\\begin{vmatrix}\n",
        "4 & 3\\\\\n",
        "0 & 1\n",
        "\\end{vmatrix}$ $\\hat{i}$ - $\\begin{vmatrix}\n",
        "5 &  3\\\\\n",
        "1 & 1\n",
        "\\end{vmatrix}$$\\hat{j}$ + $\\begin{vmatrix}\n",
        "5 &  4\\\\\n",
        "1 & 0\n",
        "\\end{vmatrix}$$\\hat{k}$ = $(4 - 0)\\hat{i}$ - $(5 - 3)\\hat{j}$ + $(0 - 4)\\hat{k}$ $= 4\\hat{i} -2 \\hat{j} - 4 \\hat{k}$ ou $(4, -2, -4)$, vetor resultante do produto vetorial."
      ],
      "metadata": {
        "id": "hhSVZkYIuC0l"
      }
    },
    {
      "cell_type": "markdown",
      "source": [
        "###Parte computacional - Cálculo do produto vetorial com a função numpy.cross"
      ],
      "metadata": {
        "id": "Ri5_Opf7uSRe"
      }
    },
    {
      "cell_type": "code",
      "source": [
        "#Cálculo do produto vetorial utilizando a função numpy.cross\n",
        "\n",
        "from numpy import cross\n",
        "\n",
        "x, y, z = (float(i) for i in input('Digite o valor das componentes x, y e z do vetor u: ').split())\n",
        "x2, y2, z2 = (float(i) for i in input('Digite o valor das componentes x, y e z do vetor v: ').split())\n",
        "\n",
        "u = [x, y, z]\n",
        "v = [x2, y2, z2]\n",
        "\n",
        "prod_vetorialuv = cross(u, v)\n",
        "prod_vetorialvu = cross(v, u)\n",
        "\n",
        "# Formatação dos resultados:\n",
        "\n",
        "prod_vetorialuv_str = '[{}, {}, {}]'.format(int(prod_vetorialuv[0]), int(prod_vetorialuv[1]), int(prod_vetorialuv[2]))\n",
        "prod_vetorialvu_str = '[{}, {}, {}]'.format(int(prod_vetorialvu[0]), int(prod_vetorialvu[1]), int(prod_vetorialvu[2]))\n",
        "\n",
        "print('u X v = ', prod_vetorialuv_str)\n",
        "print('v X u = ', prod_vetorialvu_str)"
      ],
      "metadata": {
        "id": "tY2-ClxkuTE1"
      },
      "execution_count": null,
      "outputs": []
    },
    {
      "cell_type": "markdown",
      "source": [
        "###Parte computacional - Cálculo do produto vetorial pela definição"
      ],
      "metadata": {
        "id": "Q6MeXSFoudKN"
      }
    },
    {
      "cell_type": "code",
      "execution_count": null,
      "metadata": {
        "id": "XRMpVhZcs7Rn"
      },
      "outputs": [],
      "source": [
        "#Cálculo do produto vetorial utilizando a definição\n",
        "\n",
        "import matplotlib.pyplot as plt\n",
        "\n",
        "#Defininco os vetores u = (5, 4, 3) e v = (1, 0, 1):\n",
        "\n",
        "x = 5\n",
        "y = 4\n",
        "z = 3\n",
        "\n",
        "x2 = 1\n",
        "y2 = 0\n",
        "z2 = 1\n",
        "\n",
        "\n",
        "#Definindo o produto vetorial:\n",
        "\n",
        "vetoru = [x, y, z]\n",
        "vetorv = [x2, y2, z2]\n",
        "res_i = y * z2 - z * y2\n",
        "res_j = z * x2 - x * z2\n",
        "res_k = x * y2 - y * x2\n",
        "\n",
        "vetor_res = [res_i, res_j, res_k]\n",
        "\n",
        "#Imprimindo a matriz e o vetor resultante referente:\n",
        "\n",
        "matriz = [['i', 'j', 'k'], [x, y, z], [x2, y2, z2]]\n",
        "print(\"A matriz é: \")\n",
        "print('{}'.format(matriz[0]))\n",
        "print(matriz[1])\n",
        "print(matriz[2])\n",
        "\n",
        "print(\"O produto vetorial u X v\")\n",
        "print(\"O vetor resultante é: \", vetor_res)\n",
        "\n",
        "\n",
        "#Gráfico em 3D:\n",
        "\n",
        "fig = plt.figure()\n",
        "plt.title('Vetor resultando do produto vetorial')\n",
        "ax = plt.axes(projection='3d')\n",
        "ax.set_xlim([0, 15])\n",
        "ax.set_ylim([0, 15])\n",
        "ax.set_zlim([0, 15])\n",
        "ax.quiver(0, 0, 0, x, y, z, color='red')\n",
        "ax.quiver(0, 0, 0, x2, y2, z2, color='blue')\n",
        "ax.quiver(0, 0, 0, res_i, res_j, res_k , color='green')\n",
        "plt.savefig('figura.png')\n",
        "plt.legend(['u', 'v', 'res'], loc=1)\n",
        "plt.savefig('figura.png')\n",
        "plt.show()"
      ]
    },
    {
      "cell_type": "code",
      "source": [
        "#Cálculo do produto vetorial utilizando a definição - Representação geral\n",
        "\n",
        "import matplotlib.pyplot as plt\n",
        "\n",
        "#Defininco os vetores u e v:\n",
        "\n",
        "x, y, z = (float(i) for i in input('Digite o valor das componentes x, y e z do vetor u: ').split())\n",
        "x2, y2, z2 = (float(i) for i in input('Digite o valor das componentes x, y e z do vetor v: ').split())\n",
        "\n",
        "#Definindo o produto vetorial:\n",
        "\n",
        "vetoru = [x, y, z]\n",
        "vetorv = [x2, y2, z2]\n",
        "res_i = y * z2 - z * y2\n",
        "res_j = z * x2 - x * z2\n",
        "res_k = x * y2 - y * x2\n",
        "\n",
        "vetor_res = [res_i, res_j, res_k]\n",
        "\n",
        "#Imprimindo a matriz e o vetor resultante referente:\n",
        "\n",
        "matriz = [['i', 'j', 'k'], [x, y, z], [x2, y2, z2]]\n",
        "print(\"A matriz é: \")\n",
        "print('{}'.format(matriz[0]))\n",
        "print(matriz[1])\n",
        "print(matriz[2])\n",
        "\n",
        "print(\"O produto vetorial u X v\")\n",
        "print(\"O vetor resultante é: \", vetor_res)\n",
        "\n",
        "\n",
        "#Gráfico em 3D:\n",
        "\n",
        "fig = plt.figure()\n",
        "plt.title('Vetor resultando do produto vetorial')\n",
        "ax = plt.axes(projection='3d')\n",
        "ax.set_xlim([0, 15])\n",
        "ax.set_ylim([0, 15])\n",
        "ax.set_zlim([0, 15])\n",
        "ax.quiver(0, 0, 0, x, y, z, color='red')\n",
        "ax.quiver(0, 0, 0, x2, y2, z2, color='blue')\n",
        "ax.quiver(0, 0, 0, res_i, res_j, res_k , color='green')\n",
        "plt.savefig('figura.png')\n",
        "plt.legend(['u', 'v', 'res'], loc=1)\n",
        "plt.savefig('figura.png')\n",
        "plt.show()"
      ],
      "metadata": {
        "id": "i96AXAkZuqtu"
      },
      "execution_count": null,
      "outputs": []
    },
    {
      "cell_type": "markdown",
      "source": [
        "###Aplicações do produto vetorial na física:\n",
        "\n",
        "###Aplicação na física:(pág.86)\n",
        "\n",
        "Na física temos o torque ($\\vec{\\tau}$) como sendo o produto vetorial, que está ligado a possibilidade do corpo sofrer torção ou alterar seu movimento de rotação entorno de um eixo.\n",
        "\n",
        "$\\vec{\\tau}$= $\\vec{r}$ X $\\vec{F}$\n",
        "\n",
        "$\\vec{\\tau}$= |$\\vec{r}$| |$\\vec{F}$| $sen$ $θ$\n",
        "\n",
        "\n",
        "**Exemplo**:Calcular o torque ($\\vec{\\tau}$) sobre a barra $AB$, onde $\\overrightarrow{AB}$ = $\\vec{r}$ = $2 \\hat{j}$ (em metros), $\\vec{F}$ = $10\\hat{i}$ (em Newtons) e o eixo de rotação é o eixo z.\n",
        "\n",
        "$\\vec{\\tau}$= $\\vec{r}$ X $\\vec{F}$\n",
        "\n",
        "$\\vec{\\tau}$= $(0\\hat{i} + 2 \\hat{j} + 0\\hat{k})$  X   $(10\\hat{i} + 0\\hat{j} + 0\\hat{k})$\n",
        "\n",
        "$\\vec{\\tau}$= $(-20\\hat{k})$, encontramos um vetor como resposta, pois o produto vetorial possui essa característica.\n",
        "\n",
        "Caso a força se inverta $\\vec{F}$ = $10i$ o torque passa a ser positivo $\\vec{\\tau}$= $(20\\hat{k})$\n",
        "\n",
        "\n",
        "\n",
        "\n",
        "\n",
        "----------------------------------------------------------------------------\n",
        "* **Questão:**Uma força $\\vec{F} = (3, -4, 5) N$ é aplicada a um objeto na posição $\\vec{r} = (1, 2, 3) m$. Qual é o torque produzido pela força sobre o objeto?\n",
        "\n",
        "-----------------------------------------------------------------------------\n",
        "\n",
        "* Fonte:**OLIVEIRA, Matheus Alexandre de França. Aplicações dos vetores na física. 2023**.\n",
        "\n",
        "-----------------------------------------------------------------------------\n",
        "\n",
        "**Resolução Matemática:**\n",
        "\n",
        "\n",
        "O torque é dado por:\n",
        "\n",
        "$\\vec{\\tau}$= $\\vec{r}$ X $\\vec{F}$\n",
        "\n",
        "Onde r é o vetor posição e F é a força. O produto vetorial de dois vetores é dado por:\n",
        "\n",
        "$\\vec{u}$ X $\\vec{v}$= $\\begin{vmatrix}\n",
        "\\hat{i} & \\hat{j} &  \\hat{k}\\\\{x_{1}} &{y_{1}}  & {z_{1}} \\\\{x_{2}} & {y_{2}} & {z_{2}}\n",
        "\\end{vmatrix}$, sendo assim, aplicando aos vetores fornecidos temos:\n",
        "\n",
        "\n",
        "$\\begin{vmatrix}\n",
        "\\hat i & \\hat j & \\hat k \\\\\n",
        "1 & 2 & 3 \\\\\n",
        "3 & -4 & 5\n",
        "\\end{vmatrix}=\\begin{vmatrix}\n",
        "2 & 3 \\\\\n",
        "-4 & 5\n",
        "\\end{vmatrix}\\hat i-\\begin{vmatrix}\n",
        "1 & 3 \\\\\n",
        " 3& 5\n",
        "\\end{vmatrix}\\hat j+\\begin{vmatrix}\n",
        "1 &  2\\\\\n",
        "3 & -4\n",
        "\\end{vmatrix}\\hat k$\n",
        "\n",
        "\n",
        "$=(10+12)\\hat i-(5-9)\\hat j+(-4-6)\\hat k=22\\hat i+4\\hat j-10\\hat k$, o torque é representado por um vetor resultante do produto vetorial.\n"
      ],
      "metadata": {
        "id": "AKSVcSpgvP1E"
      }
    },
    {
      "cell_type": "markdown",
      "source": [
        "###Aplicação na engenharia civil"
      ],
      "metadata": {
        "id": "q5fCNMBr13SV"
      }
    },
    {
      "cell_type": "markdown",
      "source": [
        "\n",
        "Na engenharia o produto vetorial é usado para calcular a torção. Máquinas e elementos estruturais sofrem com a aplicação de forças axiais, que causam deformações ao longo do eixo.(**Beer, F. P., Johnston Jr, E. R., DeWolf, J. T., & Mazurek, D. F. (ano). Mecânica dos Materiais. 5. ed. São Paulo: McGrawHill.**)\n",
        "\n",
        "-----------------------------------------------------------------------------\n",
        "* **Questão PF 2.6**: Determine as componentes das reações de apoio em C, sabendo que C é um apoio tipo pino, B é tipo fixa e A apoio de rolo.\n",
        "\n",
        "![hibbler.png](data:image/png;base64,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)\n",
        "\n",
        "**Referência:** R.C. HIBBELER, Análise das Estruturas. 8 Ed. Pearson Education do Brasil, São Paulo,2013.\n",
        "\n"
      ],
      "metadata": {
        "id": "HVlR5Q5U2bQX"
      }
    },
    {
      "cell_type": "markdown",
      "source": [
        "###Resolução matemática"
      ],
      "metadata": {
        "id": "FbcG80X93BLA"
      }
    },
    {
      "cell_type": "markdown",
      "source": [
        "\n",
        "No ponto C teremos duas reações de apoio, que chamaremos de $C_{X}$ e $C_{Y}$. Já em A teremos apenas uma reação que chamaremos de força normal decorrente do peso da estrutura, $N_{A}$.\n",
        "\n",
        "\n",
        "Utilizaremos as três equações de equilíbrio para determinar o valor das reações:\n",
        "\n",
        "* $\\sum_{}^{}F_{x}=0$, para a direita positivo;\n",
        "\n",
        "* $\\sum_{}^{}F_{y}=0$, para cima positivo;\n",
        "\n",
        "* $\\sum_{}^{}M_{c}=0$, sentido anti-horário positivo;\n",
        "\n",
        "\n",
        "$\\sum_{}^{}F_{x}=0$ $\\to $ $C_{x}-2=0$\n",
        "\n",
        "$C_{x}=2,0 KN$\n",
        "\n",
        "\n",
        "$\\sum_{}^{}F_{y}=0\\to C_{y}+4-6=0$\n",
        "\n",
        "$C_{y}=2,0 KN$\n",
        "\n",
        "\n",
        "Para determinar o momento em relação ao ponto C, utilizaremos o produto vetorial e sua definição, $rF$ $sen$ $θ$. A distância é sempre a menor ortogonal possível.\n",
        "\n",
        "$\\sum_{}^{}M_{c}=0\\to 6(2)Sen 90° +4(2)Sen 90°-N_{A}(4)Sen 90°=0$.\n",
        "\n",
        "Sabemos que, $Sen 90°=1$\n",
        "\n",
        "$N_{A}= 4KN$\n",
        "\n",
        "\n",
        "\n",
        "\n"
      ],
      "metadata": {
        "id": "Mw5EXMid3GiK"
      }
    },
    {
      "cell_type": "markdown",
      "source": [
        "###Resolução computacional"
      ],
      "metadata": {
        "id": "DFxCsj7d3D8p"
      }
    },
    {
      "cell_type": "code",
      "source": [
        "import math\n",
        "\n",
        "def calcular_formula(r, F, theta):\n",
        "\n",
        "    # Convertendo o ângulo de graus para radianos:\n",
        "\n",
        "    theta_radianos = math.radians(theta)\n",
        "\n",
        "    # Calculando a fórmula r.F.sin(theta):\n",
        "\n",
        "    resultado = r * F * math.sin(theta_radianos)\n",
        "\n",
        "    return resultado\n",
        "\n",
        "# Valores de exemplo\n",
        "r = 6\n",
        "F = 2\n",
        "theta = 90  # ângulo em graus\n",
        "\n",
        "resultado = calcular_formula(r, F, theta)\n",
        "print(f\"O momento é: {resultado}\")"
      ],
      "metadata": {
        "id": "64qieucS4Gcx"
      },
      "execution_count": null,
      "outputs": []
    },
    {
      "cell_type": "markdown",
      "source": [
        "* Para confirmar os cálculos, valor das reações de apoio podemos utilizar o software FTOOL.\n",
        "\n",
        "![ftool hibbler.PNG](data:image/png;base64,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)\n",
        "\n",
        "\n",
        "**Referência:**FTOOL. Disponível em:(https://www.ftool.com.br/Ftool/)"
      ],
      "metadata": {
        "id": "i5mTZO907kaX"
      }
    }
  ]
}
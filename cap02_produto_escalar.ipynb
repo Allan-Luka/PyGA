{
  "nbformat": 4,
  "nbformat_minor": 0,
  "metadata": {
    "colab": {
      "provenance": [],
      "authorship_tag": "ABX9TyMkoipkzcMYx7+qq/sIx6P3",
      "include_colab_link": true
    },
    "kernelspec": {
      "name": "python3",
      "display_name": "Python 3"
    },
    "language_info": {
      "name": "python"
    }
  },
  "cells": [
    {
      "cell_type": "markdown",
      "metadata": {
        "id": "view-in-github",
        "colab_type": "text"
      },
      "source": [
        "<a href=\"https://colab.research.google.com/github/Allan-Luka/PyGA/blob/main/cap02_produto_escalar.ipynb\" target=\"_parent\"><img src=\"https://colab.research.google.com/assets/colab-badge.svg\" alt=\"Open In Colab\"/></a>"
      ]
    },
    {
      "cell_type": "markdown",
      "source": [
        "# Capítulo 2: Produto Escalar\n",
        "\n",
        "\n",
        "\n"
      ],
      "metadata": {
        "id": "AhUyYKytm4p9"
      }
    },
    {
      "cell_type": "markdown",
      "source": [
        "## Objetivos:\n",
        "- Definição e propriedades do produto escalar;\n",
        "- Projeção de vetores;\n",
        "- Ângulo entre vetores;\n",
        "- Aplicações do produto escalar em geometria analítica e física."
      ],
      "metadata": {
        "id": "bv9Dgl49m9FC"
      }
    },
    {
      "cell_type": "markdown",
      "source": [
        "##Definição\n",
        "\n",
        "O produto escalar entre dois vetores é uma operação matemática que é realizada e tem como resultado um escalar, um número, representado  como  $\\vec{u} . \\vec{v}$\n",
        "\n",
        "O produto escalar entre dois vetores é definido como:(pág.49-51)\n",
        "\n",
        "Tomaremos dois vetores $\\vec{u}= x_{1}\\hat{i}+y_{1}\\hat{j}+z_{1}\\hat{k}$ e $\\vec{v}$= $x_{2}\\hat{i}+y_{2}\\hat{j}+z_{2}\\hat{k}$, o produto escalar $\\vec{u}$ . $\\vec{v}$ será,\n",
        "\n",
        "$\\vec{u}$ . $\\vec{v}$ = $(x_{1}x_{2}, y_{1}y_{2}, z_{1}z_{2})$.\n",
        "\n",
        "**Exemplo:** Dados os vetores $\\vec{u}$=$3\\hat{i} -5\\hat{j} +8\\hat{k}$ e $\\vec{v}$=$4\\hat{i} -2\\hat{j} - \\hat{k}$, calcule o produto escalar:\n",
        "\n",
        "$\\vec{u}$ . $\\vec{v}$ = $3 (4) - 5 (-2) + 8 (-1) = 12 + 10 - 8 = 14$\n",
        "\n",
        "\n",
        "###Definição Geométrica (pág.52)\n",
        "\n",
        "$\\vec{u} . \\vec{v}$= |$\\vec{u}$| |$\\vec{v}$| $cos$ $θ$, onde $θ$ é o ângulo entre os vetores $\\vec{u}$ e $\\vec{v}$.\n",
        "\n",
        "Caso o produto escalar resulte em $0$ como resultado isso significa que os vetores são ortogonais.\n",
        "\n",
        "###Propriedades do produto escalar (pág.50)\n",
        "\n",
        "Para a definição das propriedades usaremos os vetores $\\vec{u}$, $\\vec{v}$ e $\\vec{w}$ e o escalar $α$.\n",
        "\n",
        "1ª $\\vec{u}$ . $\\vec{v}$=$\\vec{v}$ . $\\vec{u}$\n",
        "\n",
        "2ª $\\vec{u}$ . ($\\vec{v}$+$\\vec{w}$)= $\\vec{u}$ . $\\vec{v}$+$\\vec{u}$ . $\\vec{w}$;\n",
        "\n",
        "3ª $α$($\\vec{u}$ . $\\vec{v}$)=($α$$\\vec{u}$) . $\\vec{v}$=$\\vec{u}$ . ($α$$\\vec{v}$);\n",
        "\n",
        "4ª $\\vec{u}$ . $\\vec{u}$> 0 se $\\vec{u}$ ≠ $0$ e $\\vec{u}$ . $\\vec{u}$= $0$ se $\\vec{u}$= $\\vec{0}$ $=(0, 0, 0)$;\n",
        "\n",
        "5ª $\\vec{u}$ . $\\vec{u}$= |$\\vec{u}$|²"
      ],
      "metadata": {
        "id": "0EKAqqeQpEsD"
      }
    },
    {
      "cell_type": "markdown",
      "source": [
        "###Parte computacional - Cálculo do produto escalar pela função numpy.dot"
      ],
      "metadata": {
        "id": "qDX256TDp12C"
      }
    },
    {
      "cell_type": "code",
      "source": [
        "#Calculando o produto escalar:\n",
        "\n",
        "#1 Utilizando a função numpy.not(Que é a reponsável pela operação)\n",
        "\n",
        "\n",
        "u = [10, 5]\n",
        "v = [7, 5]\n",
        "print(np.dot(u, v))\n",
        "print(np.dot(v, u))"
      ],
      "metadata": {
        "id": "Bu2t-hFRp1ek"
      },
      "execution_count": null,
      "outputs": []
    },
    {
      "cell_type": "markdown",
      "source": [
        "###Parte computacional- Cálculo do produto escalar utilizando a definição"
      ],
      "metadata": {
        "id": "d6CR9v3kqCol"
      }
    },
    {
      "cell_type": "code",
      "execution_count": null,
      "metadata": {
        "id": "gQfV_LK-mQAd"
      },
      "outputs": [],
      "source": [
        "#Calculando o produto escalar\n",
        "\n",
        "#2 Utilizando a definição\n",
        "\n",
        "x = 10\n",
        "y = 5\n",
        "x2 = 7\n",
        "y2 = 5\n",
        "\n",
        "u = [x, y]\n",
        "v = [x2, y2]\n",
        "\n",
        "res = x * x2 + y * y2\n",
        "\n",
        "print('O resultado do produto escalar é:', res)\n"
      ]
    },
    {
      "cell_type": "code",
      "source": [
        "#Calculando o produto escalar - Representação geral\n",
        "\n",
        "#2 Utilizando a definição\n",
        "\n",
        "\n",
        "x, y = (float(i) for i in input('Digite o valor das componentes x e y: ').split())\n",
        "x2, y2 = (float(i) for i in input('Digite o valor das componentes x e y: ').split())\n",
        "\n",
        "u = [x, y]\n",
        "v = [x2, y2]\n",
        "\n",
        "res = x * x2 + y * y2\n",
        "\n",
        "print('O resultado do produto escalar é:', res)"
      ],
      "metadata": {
        "id": "Nyd5nRGGqP2K"
      },
      "execution_count": null,
      "outputs": []
    },
    {
      "cell_type": "markdown",
      "source": [
        "###Projeção de vetores\n"
      ],
      "metadata": {
        "id": "4OnxkXNTqUXc"
      }
    },
    {
      "cell_type": "markdown",
      "source": [
        "Todo vetor pode ser decomposto, em componentes ao longo dos eixos, x, y, z, o que chamamos de decomposição de vetores. Tal operação facilita a manipulação e análise dos vetores.\n",
        "\n",
        "Para um vetor genérico, $\\vec{v}$=$(v_x, v_y, v_z)$ sua decomposição ao longo dos eixos:\n",
        "\n",
        "$v_x$ = Componente de $\\vec{v}$ ao longo do eixo $x$;\n",
        "\n",
        "$v_y$ = Componente de $\\vec{v}$ ao longo do eixo $y$;\n",
        "\n",
        "$v_z$ = Componente de $\\vec{v}$ ao longo do eixo $z$;\n",
        "\n",
        "\n",
        "**Exemplo:** Realize a decomposição do vetor $\\vec{u}$=$(1, 1, 4)$ nos eixos coordenados.\n",
        "\n",
        "**Resolução:** A decomposição do vetor $\\vec{u}$=$(1, 1, 4)$ ao longo dos eixos coordenados fica.\n",
        "\n",
        "\n",
        "$v_x$ = $1$\n",
        "\n",
        "$v_y$ = $1$\n",
        "\n",
        "$v_z$ = $4$\n",
        "\n",
        "\n",
        "Caso esse vetor faça um ângulo com os eixos como no exemplo a seguir, precisamos utilizar o sen e cos do ângulo.\n",
        "\n",
        "* Questão: A figura mostra um bloco sob ação de uma força, representada pelo vetor.\n",
        "\n",
        "![vetor.png](data:image/png;base64,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)\n",
        "\n",
        "----------------------------------------------------------------------------\n",
        "\n",
        "* Fonte:**TRINDADE, Marcelo Santos; POJAR, Mariana; DE FÁTIMA CHINAGLIA, Eliane. ELABORAÇÃO DE PROGRAMAS EM PYTHON COMO APOIO DIDÁTICO NA DISCIPLINA DE FÍSICA I PARA ESTUDANTES INGRESSANTES**.\n",
        "\n",
        "-----------------------------------------------------------------------------\n",
        "\n",
        "Dados da questão:\n",
        "\n",
        "Massa do bloco = 25kg\n",
        "\n",
        "Módulo da gravidade = 100N\n",
        "\n",
        "Gravidade = 10m/s²\n",
        "\n",
        "Ângulo = 38 graus.\n",
        "\n",
        "----------------------------------------------------------------------------\n",
        "\n",
        "A)Qual o valor da componente x da força?\n",
        "\n",
        "**Resolução matemática:**\n",
        "\n",
        "Para determinar a componente da força F, vamos precisar da força que age no bloco e de sua angulação.\n",
        "\n",
        "A força que atua tem intensidade de 100N e forma um ângulo de 38 graus, para a componente x $(F_{x})$, teremos:\n",
        "\n",
        "$F_{x}=100cos(38º)=78,8N$\n",
        "\n",
        "\n",
        "----------------------------------------------------------------------------\n",
        "\n",
        "B)Qual o valor da componente y da força?\n",
        "\n",
        "**Resolução matemática:**\n",
        "\n",
        "Para determinar a componente da força F, que age no eixo y, vamos precisar da força que age no bloco e de sua angulação.\n",
        "\n",
        "A força que atua tem intensidade de 100N e forma um ângulo de 38 graus, para a componente y $(F_{y})$, teremos:\n",
        "\n",
        "$F_{y}=100sen(38º)=61,56N$\n",
        "\n",
        "----------------------------------------------------------------------------\n",
        "\n",
        "C)Determine o módulo da força peso que age sobre o bloco.\n",
        "\n",
        "**Resolução matemática:**\n",
        "\n",
        "Para determinar a força peso $(P)$ vamos precisar da massa do bloco e da gravidade que atua no sistema.\n",
        "\n",
        "$P=m.g$\n",
        "\n",
        "$P=25.10=250N$"
      ],
      "metadata": {
        "id": "EGTM4mBOqn8F"
      }
    },
    {
      "cell_type": "markdown",
      "source": [
        "###Parte computacional da decomposição de vetores"
      ],
      "metadata": {
        "id": "PWR2wKKhrHtv"
      }
    },
    {
      "cell_type": "code",
      "source": [
        "#Decomposição de vetores ao longo dos eixos coordenados:\n",
        "\n",
        "def decomposicao_vetor(vetor):\n",
        "\n",
        "# Componente do vetor ao longo do eixo x:\n",
        "\n",
        "    u_x = vetor[0]\n",
        "\n",
        "# Componente do vetor ao longo do eixo y:\n",
        "\n",
        "    u_y = vetor[1]\n",
        "\n",
        "# Componente do vetor ao longo do eixo z:\n",
        "\n",
        "    u_z = vetor[2]\n",
        "\n",
        "    return u_x, u_y, u_z\n",
        "\n",
        "# Vetor de exemplo:\n",
        "\n",
        "vetor = (1, 1, 4)\n",
        "\n",
        "# Realiza a decomposição do vetor:\n",
        "\n",
        "u_x, u_y, u_z = decomposicao_vetor(vetor)\n",
        "\n",
        "# Resultado das componentes do vetor ao longo dos eixos:\n",
        "\n",
        "print(\"Componente do vetor ao longo do eixo x:\", u_x)\n",
        "print(\"Componente do vetor ao longo do eixo y:\", u_y)\n",
        "print(\"Componente do vetor ao longo do eixo z:\", u_z)\n"
      ],
      "metadata": {
        "id": "y1rCAMfNrLD1"
      },
      "execution_count": null,
      "outputs": []
    },
    {
      "cell_type": "code",
      "source": [
        "#Decomposição de vetores ao longo dos eixos coordenados - Representação geral\n",
        "\n",
        "\n",
        "def decomposicao_vetor(vetor):\n",
        "\n",
        "# Componente do vetor ao longo do eixo x:\n",
        "\n",
        "    u_x = vetor[0]\n",
        "\n",
        "# Componente do vetor ao longo do eixo y:\n",
        "\n",
        "    u_y = vetor[1]\n",
        "\n",
        "# Componente do vetor ao longo do eixo z:\n",
        "\n",
        "    u_z = vetor[2]\n",
        "\n",
        "    return u_x, u_y, u_z\n",
        "\n",
        "# Vetor de exemplo:\n",
        "\n",
        "x, y, z = (float(i) for i in input('Digite o valor das componentes x, y, z do vetor: ').split())\n",
        "\n",
        "vetor = (x, y, z)\n",
        "\n",
        "# Realiza a decomposição do vetor:\n",
        "\n",
        "u_x, u_y, u_z = decomposicao_vetor(vetor)\n",
        "\n",
        "# Resultado das componentes do vetor ao longo dos eixos:\n",
        "\n",
        "print(\"Componente do vetor ao longo do eixo x:\", u_x)\n",
        "print(\"Componente do vetor ao longo do eixo y:\", u_y)\n",
        "print(\"Componente do vetor ao longo do eixo z:\", u_z)"
      ],
      "metadata": {
        "id": "6xRt6gmmrRBG"
      },
      "execution_count": null,
      "outputs": []
    },
    {
      "cell_type": "markdown",
      "source": [
        "### Ângulo entre vetores (pág.56)\n",
        "Para determinar o ângulo entre dois vetores partiremos da definição geométrica de produto escalar que diz, $\\vec{u}$ . $\\vec{v}$= |$\\vec{u}$| |$\\vec{v}$| $cos$ $θ$, isolando o $cos$ $θ$ na expressão teremos:\n",
        "\n",
        "$cos$ $θ$= $\\frac{\\vec{u} .  \\vec{v}}{|\\vec{u}|.|\\vec{u}|}$![engenharia de produção.\n",
        "\n",
        "**Exemplo:**Calcule o ângulo entre os vetores $\\vec{u}$=$(1, 1, 4)$ e $\\vec{v}$=$(-1, 2, 2)$.\n",
        "\n",
        "$cos$ $θ$=$\\frac{\\vec{u} .  \\vec{v}}{|\\vec{u}|.|\\vec{u}|}$\n",
        "\n",
        "$cos$ $θ$=$\\frac{{(1,1,4)}.{(-1,2,2)}}{\\sqrt{1+1+16} \\sqrt{1+4+4}}$ = $\\frac{{-1+2+8}}{\\sqrt{18} \\sqrt{9}}$= $\\frac{{9}}{3\\sqrt{2} .3}$ = $\\frac{{1}}{\\sqrt{2}}$ = $\\frac{{1}}{\\sqrt{2}}.\\frac{\\sqrt{2}}{\\sqrt{2}}$=$\\frac{\\sqrt{2}}{2}$\n",
        "\n",
        "\n",
        "$θ$= $arc cos (\\frac{\\sqrt{2}}{2})= 45°$\n"
      ],
      "metadata": {
        "id": "bpXjtcZpr4m9"
      }
    },
    {
      "cell_type": "markdown",
      "source": [
        "###Parte computacional - Cálculo do ângulo entre dois vetores"
      ],
      "metadata": {
        "id": "WYeAQql5sAWn"
      }
    },
    {
      "cell_type": "code",
      "source": [
        "#Como calcular o ângulo entre dois vetores\n",
        "\n",
        "import numpy as np\n",
        "\n",
        "x = 1\n",
        "y = 1\n",
        "z = 4\n",
        "\n",
        "x2 = -1\n",
        "y2 = 2\n",
        "z2 = 2\n",
        "\n",
        "u = [x, y, z]\n",
        "v = [x2, y2, z2]\n",
        "\n",
        "res = x * x2 + y * y2 + z * z2\n",
        "\n",
        "print('O resultado do produto escalar é:', res)\n",
        "\n",
        "mod_u = np.sqrt((x**2 + y**2 + z**2))\n",
        "mod_v = np.sqrt((x2**2 + y2**2 + z2**2))\n",
        "\n",
        "print('O módulo do vetor u é: |u| =', round(mod_u, 2))\n",
        "print('O módulo do vetor v é: |v| =', round(mod_v, 2))\n",
        "\n",
        "cos_ang = res / (mod_u * mod_v)\n",
        "ang_rad = np.arccos(cos_ang)\n",
        "\n",
        "print('O ângulo entre u e v é:', round(ang_rad, 2), 'rad')\n",
        "\n",
        "ang = (ang_rad * 180) / np.pi\n",
        "\n",
        "print('O ângulo entre u e v é:', round(ang, 2), '°')"
      ],
      "metadata": {
        "id": "6LDHJlVesM0S"
      },
      "execution_count": null,
      "outputs": []
    },
    {
      "cell_type": "code",
      "source": [
        "#Como calcular o ângulo entre dois vetores - Representação geral\n",
        "\n",
        "import numpy as np\n",
        "\n",
        "x, y, z = (float(i) for i in input('Digite o valor das componentes x, y e z do vetor u: ').split())\n",
        "x2, y2, z2 = (float(i) for i in input('Digite o valor das componentes x, y e z do vetor v: ').split())\n",
        "\n",
        "u = [x, y, z]\n",
        "v = [x2, y2, z2]\n",
        "\n",
        "res = x * x2 + y * y2 + z * z2\n",
        "\n",
        "print('O resultado do produto escalar é:', res)\n",
        "\n",
        "mod_u = np.sqrt((x**2 + y**2 + z**2))\n",
        "mod_v = np.sqrt((x2**2 + y2**2 + z2**2))\n",
        "\n",
        "print('O módulo do vetor u é: |u| =', round(mod_u, 2))\n",
        "print('O módulo do vetor v é: |v| =', round(mod_v, 2))\n",
        "\n",
        "cos_ang = res / (mod_u * mod_v)\n",
        "ang_rad = np.arccos(cos_ang)\n",
        "\n",
        "print('O ângulo entre u e v é:', round(ang_rad, 2), 'rad')\n",
        "\n",
        "ang = (ang_rad * 180) / np.pi\n",
        "\n",
        "print('O ângulo entre u e v é:', round(ang, 2), '°')"
      ],
      "metadata": {
        "id": "lYskLCBQsTU5"
      },
      "execution_count": null,
      "outputs": []
    },
    {
      "cell_type": "markdown",
      "source": [
        "###Aplicações do produto escalar em geometria analítica e física\n",
        "\n",
        "\n",
        "Produto escalar na geometria analítica:\n",
        "\n",
        "\n",
        "\n",
        "Produto escalar na física:(pág.64-66)\n",
        "\n",
        "O produto escalar é utilizado na física pra determinar o trabalho ($W$) que uma força realiza ao longo de uma determinada distância.\n",
        "\n",
        "$W$= $\\vec{F}$.$\\vec{d}$\n",
        "\n",
        "$W$= |$\\vec{F}$| |$\\vec{d}$| $cos$ $θ$\n",
        "\n",
        "\n",
        "**Exemplo**:Calcular o trabalho ($W$) realizado pela força $\\vec{F}$ para deslocar o corpo de  $\\overrightarrow{AB}$, sabendo que |$\\vec{F}$|= $10N$, |$\\overrightarrow{AB}$|=|$\\vec{d}$|$= 20m$ e $θ$$=36,9°$.\n",
        "\n",
        "**Resolução 1:**A força $\\vec{F}$ pode ser decomposta em dois vetores, $\\vec{F}$= $8\\hat{i} + 6 \\hat{j}$, onde $8=\\vec{F}$ $cos$ $θ$ e $6=\\vec{F}$ $sen$ $θ$ e $\\vec{d}$=$20\\hat{i} + 0 \\hat{j}$, utilizaremos o produto escalar.\n",
        "\n",
        "$W$= $\\vec{F}$ . $\\vec{d}$\n",
        "\n",
        "$W$= $(8\\hat{i} + 6 \\hat{j})$ . $(20\\hat{i} + 0 \\hat{j})$= $(8(20)+6(0))= 160 J$\n",
        "\n",
        "**Resolução 2:** Utilizaremos a definição de trabalho.\n",
        "\n",
        "\n",
        "$W$= |$\\vec{F}$| |$\\vec{d}$| $cos$ $θ$\n",
        "\n",
        "$W$= $10$ $20$ $cos$ $(36,9°)$= $160 J$"
      ],
      "metadata": {
        "id": "xoH4chwbsEFI"
      }
    },
    {
      "cell_type": "markdown",
      "source": [
        "* Questão:Um objeto de massa $m = 2kg$ é empurrado sobre uma superfície plana com uma força constante representada pelo vetor $\\vec{F}= (4,2)$. Determine o trabalho realizado pela força sobre o objeto durante um deslocamento de $5 m$ sobre o eixo $x$.\n",
        "\n",
        "\n",
        "-----------------------------------------------------------------------------\n",
        "\n",
        "* Fonte:**OLIVEIRA, Matheus Alexandre de França. Aplicações dos vetores na física. 2023**.\n",
        "\n",
        "-----------------------------------------------------------------------------\n",
        "\n",
        "**Resolução matemática:**\n",
        "\n",
        "Como o trabalho é dado por $W$= $\\vec{F}$.$\\vec{d}$, onde F é a força aplicada e $\\vec{d}$ é o\n",
        "deslocamento, precisamos primeiramente encontrar o deslocamento na direção da força.\n",
        "\n",
        "Assim, o trabalho realizado pela força sobre o objeto é dado por:\n",
        "\n",
        "\n",
        "$W= \\vec{F}.\\vec{d}=(4,2).(5,0)=4.5+2.0=20J$\n"
      ],
      "metadata": {
        "id": "rK-0UcgLr5a_"
      }
    },
    {
      "cell_type": "markdown",
      "source": [],
      "metadata": {
        "id": "TRwYSyXR_K-u"
      }
    }
  ]
}
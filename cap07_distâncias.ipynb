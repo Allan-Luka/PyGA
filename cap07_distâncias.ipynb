{
  "nbformat": 4,
  "nbformat_minor": 0,
  "metadata": {
    "colab": {
      "provenance": [],
      "authorship_tag": "ABX9TyPGwmlRa2bNFaawowBW48p9",
      "include_colab_link": true
    },
    "kernelspec": {
      "name": "python3",
      "display_name": "Python 3"
    },
    "language_info": {
      "name": "python"
    }
  },
  "cells": [
    {
      "cell_type": "markdown",
      "metadata": {
        "id": "view-in-github",
        "colab_type": "text"
      },
      "source": [
        "<a href=\"https://colab.research.google.com/github/Allan-Luka/PyGA/blob/main/cap07_dist%C3%A2ncias.ipynb\" target=\"_parent\"><img src=\"https://colab.research.google.com/assets/colab-badge.svg\" alt=\"Open In Colab\"/></a>"
      ]
    },
    {
      "cell_type": "markdown",
      "source": [
        "# Capítulo 7: Distâncias"
      ],
      "metadata": {
        "id": "0mlzTYt9zGQQ"
      }
    },
    {
      "cell_type": "markdown",
      "source": [
        "## Objetivos:\n",
        "- Distância entre dois pontos;\n",
        "- Distância de um ponto a uma reta e a um plano;\n",
        "- Distância entre retas e planos.\n",
        "\n",
        "**Obs:** Os códigos que possuem (representação geral), tem como objetivo um formato mais interativo, permite que o usuário insira os dados."
      ],
      "metadata": {
        "id": "kz7nHO3KzJhY"
      }
    },
    {
      "cell_type": "markdown",
      "source": [
        "###Distâncias entre dois pontos (pág.151)\n",
        "\n",
        "Para calcular a distância $(d)$ entre dois pontos utilizaremos pontos genéricos $A(x_{1}, y_{1})$ e $B(x_{2}, y_{2})$.\n",
        "\n",
        "$d=\\sqrt{(x_{2}-x_{1})^{2}+(y_{2}-y_{1})^{2}}$\n",
        "\n",
        "ou se tivermos vetores com três coordenadas $A(x_{1}, y_{1}, z_{1})$ e $B(x_{2}, y_{2}, z_{2})$\n",
        "\n",
        "$d=\\sqrt{(x_{2}-x_{1})^{2}+(y_{2}-y_{1})^{2}+(z_{2}-z_{1})^{2}}$\n",
        "\n",
        "**Exemplo**:Calcular a distância entre $P_{1}$$(2, -1, 3)$ e $P_{2}(1, 1, 5)$.\n",
        "\n",
        "\n",
        "**Resolução:**$d=\\sqrt{(1-2)^{2}+(1+1)^{2}+(5-3)^{2}}$=$\\sqrt{9}$=$3 u.c$ (Unidades de comprimento)"
      ],
      "metadata": {
        "id": "Atb911xlzP5o"
      }
    },
    {
      "cell_type": "markdown",
      "source": [
        "###Parte computacional - Distância entre dois pontos"
      ],
      "metadata": {
        "id": "1U-2WrVgzWVX"
      }
    },
    {
      "cell_type": "code",
      "execution_count": null,
      "metadata": {
        "id": "XMZVn4Cxy_qu"
      },
      "outputs": [],
      "source": [
        "#Distância Euclidiana entre dois pontos\n",
        "\n",
        "import math\n",
        "\n",
        "#Definindo os pontos:\n",
        "\n",
        "P1 = (2, -1, 3)\n",
        "P2 = (1, 1, 5)\n",
        "\n",
        "#Calculando a distância:\n",
        "\n",
        "dist = math.sqrt((P2[0]-P1[0])**2+(P2[1]-P1[1])**2+(P2[2]-P1[2])**2)\n",
        "\n",
        "print(\"A distância entre os pontos é: \", dist)\n",
        "\n",
        "\n",
        "#Para pontos com duas componentes P1(1, 2):\n",
        "                                 #P2(3, 4)\n",
        "\n",
        "#Substitua: P1 = (2, -1, 3)\n",
        "#           P2 = (1, 1, 5)\n",
        "\n",
        "#Por: P1 = (1, 2)\n",
        "#     P2 = (3, 4)\n",
        "\n",
        "\n",
        "\n",
        "#Substitua: dist = math.sqrt((P2[0]-P1[0])**2+(P2[1]-P1[1])**2+(P2[2]-P1[2])**2)\n",
        "\n",
        "#Por: dist = math.sqrt((P2[0]-P1[0])**2+(P2[1]-P1[1])**2)"
      ]
    },
    {
      "cell_type": "code",
      "source": [
        "#Distância Euclidiana entre dois pontos - Representação geral\n",
        "\n",
        "#Definindo os pontos:\n",
        "\n",
        "x, y, z = np.array([float(i) for i in input('Digite o valor das componentes do P1: ').split()])\n",
        "x1, y1, z1 = np.array([float(i) for i in input('Digite o valor das componentes do P2: ').split()])\n",
        "\n",
        "P1 = [x, y, z]\n",
        "P2 = [x1, y1, z1]\n",
        "\n",
        "#Calculando a distância:\n",
        "\n",
        "dist = math.sqrt((P2[0]-P1[0])**2+(P2[1]-P1[1])**2+(P2[2]-P1[2])**2)\n",
        "\n",
        "print(\"A distância entre os pontos é: \", dist)\n",
        "\n",
        "\n",
        "#Para pontos com duas componentes P1(x, y):\n",
        "\n",
        "#Substitua:#x, y, z = np.array([float(i) for i in input('Digite o valor das componentes do P1: ').split()])\n",
        "           #x1, y1, z1 = np.array([float(i) for i in input('Digite o valor das componentes do P2: ').split()])\n",
        "           #P1 = [x, y, z]\n",
        "           #P2 = [x1, y1, z1]\n",
        "\n",
        "#Por:      #x, y = np.array([float(i) for i in input('Digite o valor das componentes do P1: ').split()])\n",
        "           #x1, y1= np.array([float(i) for i in input('Digite o valor das componentes do P2: ').split()])\n",
        "           #P1 = [x, y]\n",
        "           #P2 = [x1, y1]\n",
        "\n",
        "\n",
        "\n",
        "# Substitua: math.sqrt((P2[0]-P1[0])**2+(P2[1]-P1[1])**2+(P2[2]-P1[2])**2))\n",
        "\n",
        "# Por: math.sqrt((P2[0]-P1[0])**2+(P2[1]-P1[1])**2)"
      ],
      "metadata": {
        "id": "uDx0q-x1zbUR"
      },
      "execution_count": null,
      "outputs": []
    },
    {
      "cell_type": "markdown",
      "source": [
        "###Distância de um ponto a uma reta e a um plano\n",
        "\n",
        "Para determinar a distância entre um ponto e uma reta $d(P,r)$:(pág.151,152)\n",
        "\n",
        " $d$= $d(P,r)$= $\\frac{\\left| \\vec{v}  X  \\overrightarrow{AP} \\right|}{\\left| \\vec{v} \\right|}$\n",
        "\n",
        " **Exemplo**:Calcular a distância entre o ponto P$(2, 1, 4)$ e a reta\n",
        "\n",
        "$r:\\left\\{ \\begin{array}{cl}\n",
        "x = & \\ -1 \\ +2t\\\\\n",
        "y= &  \\ 2 \\ -t \\\\\n",
        "z= & \\ 3 \\ -2t\n",
        "\\end{array} \\right.$\n",
        "\n",
        "\n",
        "\n",
        "\n",
        "**Resolução:**Sabemos que a reta $r$ passa por $A(-1, 2, 3)$ e tem vetor diretor $\\vec{v}=(2, -1, -2)$. Precisamos determinar,  $\\overrightarrow{AP}=P-A = ((2-(-1))+(1-2)+(4-3))=(3, -1, 1)$.\n",
        "\n",
        "$\\vec{v}  X  \\overrightarrow{AP}=\\begin{vmatrix}\n",
        "\\vec{i} & \\vec{j} & \\vec{k} \\\\\n",
        "2 & -1 & -2  \\\\\n",
        "3 & -1 & 1\n",
        "\\end{vmatrix}$= $\\begin{vmatrix}\n",
        "-1 & -2\\\\\n",
        " -1& 1\n",
        "\\end{vmatrix}$ $\\hat{i}$ - $\\begin{vmatrix}\n",
        "2 & -2  \\\\\n",
        "3 & 1\n",
        "\\end{vmatrix}$$\\hat{j}$ + $\\begin{vmatrix}\n",
        "2 &  -1\\\\\n",
        " 3& -1\n",
        "\\end{vmatrix}$$\\hat{k}$= $(-1 - 2)\\hat{i}$ - $(2 - (-6) )\\hat{j}$ + $(-2 - (-3) )\\hat{k}$= $(-3, -8, 1)$.\n",
        "\n",
        "\n",
        "\n",
        "$d$= $d(P,r)$= $\\frac{\\left| \\vec{v}  X  \\overrightarrow{AP} \\right|}{\\left| \\vec{v} \\right|}$ = $\\frac{\\left|(-3, -8 ,1)  \\right|}{\\left|(2,-1,-2)  \\right|}=\\frac{\\sqrt{(-3)^{2}+(-8)^{2}+(1)^{2}}}{\\sqrt{(2)^{2}+(-1)^{2}+(-2)^{2}}}$=$\\frac{\\sqrt{74}}{3}u.c$\n",
        "\n",
        "\n",
        "\n",
        "Para determinar a distância entre um ponto e um plano $d(P0,π)$:(pág.153,154)\n",
        "\n",
        "$d(P0,π)$ = $\\frac{\\left| ax_{0}+by_{0}+cz_{0}+d \\right|}{\\sqrt{a^{2}+b^{2}+c^{2}}}$\n",
        "\n",
        "**Exemplo**:Calcular a distância do ponto $P(4, 2, -3)$ ao plano $π: 2x + 3y - 6z + 3 = 0$\n",
        "\n",
        "**Resolução:**$\\frac{\\left| 2(4)+3(2)-6(-3)+3 \\right|}{\\sqrt{2^{2}+3^{2}+(-6)^{2}}}$=$\\frac{\\left|8+6+18+3  \\right|}{\\sqrt{4+9+36}}$=$\\frac{35}{7}$=$5$\n"
      ],
      "metadata": {
        "id": "0mlzwP2Bzkfo"
      }
    },
    {
      "cell_type": "markdown",
      "source": [
        "###Distâncias entre retas (pág.155,156)\n",
        "\n",
        "\n",
        "\n",
        "Para determinar a distância entre duas retas $d=d(r1,r2)$ temos:\n",
        "\n",
        "ccc\n",
        "\n",
        "**Exemplo:**Calcular a distância entre as retas.\n",
        "\n",
        "\n",
        "$r_{1}:\\left\\{ \\begin{array}{cl}\n",
        "x = & \\ -1 \\ +t\\\\\n",
        "y= &  \\ 3 \\ -2t \\\\\n",
        "z= & \\ -1 \\ -t\n",
        "\\end{array} \\right.$\n",
        "\n",
        "\n",
        "\n",
        "$r_{2}:\\left\\{ \\begin{array}{cl}\n",
        "y= &  \\ x \\ -3 \\\\\n",
        "z= & \\ -x \\ +1\n",
        "\\end{array} \\right.$\n",
        "\n",
        "\n",
        "\n",
        "\n",
        "\n",
        "\n",
        "**Resolução:**Para determinar a distância entre duas retas, precisamos dos pontos onde essas retas passam e o vetor diretor de cada uma delas.\n",
        "\n",
        "Para $r_{1}$: $A_{1}(-1, 3, -1)$ e $\\vec V_{1}=(1, -2, -1)$;\n",
        "\n",
        "Para $r_{2}$: $A_{2}(0, -3, 1)$ e $\\vec V_{2}=(1, 1, -1)$;\n",
        "\n",
        "$\\overrightarrow{A_{1}A_{2}}$= $A_{2} - A_{1}= (1, -6, 2)$;\n",
        "\n",
        "determinando: $(\\vec{v_{1}},\\vec{v_{2}},\\overrightarrow{A_{1}A_{2}})$=$\\begin{vmatrix}\n",
        "1 & -2 &  -1\\\\\n",
        "1 & 1 & -1 \\\\\n",
        "1 & -6 & 2\n",
        "\\end{vmatrix}$=$\\begin{vmatrix}\n",
        "1 & -1 \\\\\n",
        "-6 & 2\n",
        "\\end{vmatrix}$ ${1}$ - $\\begin{vmatrix}\n",
        "1 & -1  \\\\\n",
        "1 & 2\n",
        "\\end{vmatrix}$${-2}$ + $\\begin{vmatrix}\n",
        "1 &  1\\\\\n",
        "1 & -6\n",
        "\\end{vmatrix}$${-1}=9$\n",
        "\n",
        "\n",
        "\n",
        "determinando: $\\left|{\\vec V_{1}X \\vec V_{2}}  \\right|$=$\\begin{vmatrix}\n",
        "\\vec {i} & \\vec {j} & \\vec {k}\\\\\n",
        "1 & -2 & -1 \\\\\n",
        "1 & 1 & -1\n",
        "\\end{vmatrix}$= $\\begin{vmatrix}\n",
        "-2 & -1\\\\\n",
        "1 & -1\n",
        "\\end{vmatrix}$ $\\hat{i}$ - $\\begin{vmatrix}\n",
        "1 & -1 \\\\\n",
        "1 & -1\n",
        "\\end{vmatrix}$$\\hat{j}$ + $\\begin{vmatrix}\n",
        "1 & -2 \\\\\n",
        "1 & 1\n",
        "\\end{vmatrix}$$\\hat{k}$= $(2 + 1)\\hat{i}$ - $(-1 + 1)\\hat{j}$ + $(2 + 1)\\hat{k}$= $(3, 0, 3)$.\n",
        "\n",
        "$d=d(r1,r2)$ = $\\frac{\\left| (\\vec{v_{1}},\\vec{v_{2}},\\overrightarrow{A_{1}A_{2}}) \\right|}{\\left| \\vec{V_{1}}X\\vec{V_{2}} \\right|}$ = $\\frac{\\left| 9 \\right|}{\\left| (3,0,3) \\right|}=\\frac{9}{\\sqrt{(3)^{2}+(3)^{2}}}=\\frac{9}{\\sqrt{18}}=\\frac{3}{\\sqrt{2}}$"
      ],
      "metadata": {
        "id": "XqCKfXSizswG"
      }
    },
    {
      "cell_type": "markdown",
      "source": [
        "###Parte computacional - Distâncias"
      ],
      "metadata": {
        "id": "nwMNLvR1zvCq"
      }
    },
    {
      "cell_type": "code",
      "source": [
        "#Cálculo da distância entre duas retas.\n",
        "\n",
        "import numpy as np\n",
        "\n",
        "#Criando a função:\n",
        "\n",
        "def distancia_entre_retas(x1, y1, z1, a1, b1, c1, x2, y2, z2, a2, b2, c2):\n",
        "\n",
        "#Descrição das variáveis:\n",
        "\n",
        "#(x1, y1, z1) são as coordenadas do ponto 1\n",
        "#(a1, b1, c1) são as coordenadas do vetor diretor da reta 1\n",
        "\n",
        "#(x2, y2, z2) são as coordenadas do ponto 2\n",
        "#(a2, b2, c2) são as coordenadas do vetor diretor da reta 2\n",
        "\n",
        "# Define os vetores diretores das retas:\n",
        "\n",
        "    vetor_diretor_1 = np.array([a1, b1, c1])\n",
        "    vetor_diretor_2 = np.array([a2, b2, c2])\n",
        "\n",
        "# Calcula o vetor entre um ponto em uma reta e outro ponto na outra reta:\n",
        "\n",
        "    vetor_entre_pontos = np.array([x2 - x1, y2 - y1, z2 - z1])\n",
        "\n",
        "# Calcula a distância entre as retas usando a fórmula:\n",
        "\n",
        "    distancia = np.abs(np.dot(vetor_entre_pontos, np.cross(vetor_diretor_1, vetor_diretor_2))) / np.linalg.norm(np.cross(vetor_diretor_1, vetor_diretor_2))\n",
        "\n",
        "    return distancia\n",
        "\n",
        "# Exemplo:\n",
        "\n",
        "x1, y1, z1 = -1, 3, -1\n",
        "a1, b1, c1 = 1, -2, -1\n",
        "x2, y2, z2 = 0, -3, 1\n",
        "a2, b2, c2 = 1, 1, -1\n",
        "\n",
        "distancia = distancia_entre_retas(x1, y1, z1, a1, b1, c1, x2, y2, z2, a2, b2, c2)\n",
        "print(\"A distância entre as retas é:\", distancia)\n"
      ],
      "metadata": {
        "id": "6REcSEVRzzDx"
      },
      "execution_count": null,
      "outputs": []
    },
    {
      "cell_type": "code",
      "source": [
        "#Cálculo da distância entre um ponto e um plano.\n",
        "\n",
        "import numpy as np\n",
        "\n",
        "def distancia_ponto_para_plano(ponto, coeficientes_plano):\n",
        "\n",
        "#Converte os pontos para arrays numpy para facilitar os cálculos:\n",
        "\n",
        "    ponto = np.array(ponto)\n",
        "    coeficientes_plano = np.array(coeficientes_plano)\n",
        "\n",
        "#Coeficientes do plano:\n",
        "\n",
        "    a, b, c, d = coeficientes_plano\n",
        "\n",
        "#Fórmula para calcula a distância entre o ponto e o plano:\n",
        "\n",
        "    distancia = np.abs((a*ponto[0] + b*ponto[1] + c*ponto[2] + d)) / np.sqrt(a**2 + b**2 + c**2)\n",
        "\n",
        "    return distancia\n",
        "\n",
        "#Coeficientes do plano: π: 2x + 3y - 6z + 3 = 0\n",
        "\n",
        "coeficientes_plano = [2, 3, -6, 3]\n",
        "\n",
        "#Ponto P:\n",
        "\n",
        "ponto_P = [4, 2, -3]\n",
        "\n",
        "#Calcula a distância entre o ponto P e o plano π:\n",
        "\n",
        "distancia = distancia_ponto_para_plano(ponto_P, coeficientes_plano)\n",
        "\n",
        "print(\"A distância entre o ponto P e o plano π é:\", distancia)"
      ],
      "metadata": {
        "id": "6891wSA8z5pa"
      },
      "execution_count": null,
      "outputs": []
    }
  ]
}
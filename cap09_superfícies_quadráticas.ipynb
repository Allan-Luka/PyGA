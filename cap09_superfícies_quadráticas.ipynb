{
  "nbformat": 4,
  "nbformat_minor": 0,
  "metadata": {
    "colab": {
      "provenance": [],
      "authorship_tag": "ABX9TyO3IrbihDI6hA5D1+HSn8uK",
      "include_colab_link": true
    },
    "kernelspec": {
      "name": "python3",
      "display_name": "Python 3"
    },
    "language_info": {
      "name": "python"
    }
  },
  "cells": [
    {
      "cell_type": "markdown",
      "metadata": {
        "id": "view-in-github",
        "colab_type": "text"
      },
      "source": [
        "<a href=\"https://colab.research.google.com/github/Allan-Luka/PyGA/blob/main/cap09_superf%C3%ADcies_quadr%C3%A1ticas.ipynb\" target=\"_parent\"><img src=\"https://colab.research.google.com/assets/colab-badge.svg\" alt=\"Open In Colab\"/></a>"
      ]
    },
    {
      "cell_type": "markdown",
      "source": [
        "# Capítulo 9: Superfícies Quadráticas"
      ],
      "metadata": {
        "id": "5wzaa0mJ1Tht"
      }
    },
    {
      "cell_type": "markdown",
      "source": [
        "##Objetivos:\n",
        "- Equações gerais de esferas, elipsoides, hiperboloides e paraboloides;\n",
        "- Representação gráfica das superfícies quadráticas."
      ],
      "metadata": {
        "id": "Puz9l5YL1XUX"
      }
    },
    {
      "cell_type": "markdown",
      "source": [
        "### Parabolóide"
      ],
      "metadata": {
        "id": "SHuS5KeZ1zmu"
      }
    },
    {
      "cell_type": "markdown",
      "source": [
        "**Equação geral paraboloides**\n",
        "\n",
        "Parabolóide elíptico:(pág.221)\n",
        "\n",
        "\n",
        "$z=\\frac{x^{2}}{a^{2}}+\\frac{y^{2}}{b^{2}}$\n",
        "\n",
        "\n",
        "\n",
        "$y=\\frac{x^{2}}{a^{2}}+\\frac{z^{2}}{c^{2}}$\n",
        "\n",
        "\n",
        "\n",
        "\n",
        "$x=\\frac{y^{2}}{b^{2}}+\\frac{z^{2}}{c^{2}}$\n",
        "\n",
        "\n",
        "**Exemplo:**\n",
        "\n",
        "$x=y^{2}+\\frac{z^{2}}{\\frac{1}{4}}$(pág:229)"
      ],
      "metadata": {
        "id": "sd8kA90x2Def"
      }
    },
    {
      "cell_type": "markdown",
      "source": [
        "###Representação computacional"
      ],
      "metadata": {
        "id": "I4GkvSu42Tqx"
      }
    },
    {
      "cell_type": "code",
      "execution_count": null,
      "metadata": {
        "id": "r-0G-SqG1LxH"
      },
      "outputs": [],
      "source": [
        "import numpy as np\n",
        "import matplotlib.pyplot as plt\n",
        "from mpl_toolkits.mplot3d import Axes3D\n",
        "\n",
        "# Função para plotar a quadrica\n",
        "def plotar_paraboloide(x, y, z, a, b, c, elev=30, azim=-60):\n",
        "    # Criando a figura e os eixos 3D\n",
        "    fig = plt.figure()\n",
        "    ax = fig.add_subplot(111, projection='3d')\n",
        "\n",
        "    # Plotando a superfície do paraboloide\n",
        "    ax.plot_surface(x, y, z, color='b', alpha=0.9)\n",
        "\n",
        "    # Configurando os rótulos dos eixos\n",
        "    ax.set_xlabel('X')\n",
        "    ax.set_ylabel('Y')\n",
        "    ax.set_zlabel('Z')\n",
        "\n",
        "    # Ajustando os limites dos eixos\n",
        "    ax.set_xlim([-10*a, 10*a])\n",
        "    ax.set_ylim([-10*b, 10*b])\n",
        "    #ax.set_zlim([ 2*np.min(z), 2*np.max(z)] )\n",
        "\n",
        "    # Definindo o ângulo de visualização\n",
        "    ax.view_init(elev, azim) #Valores padrão: elev=30, azim=-60,\n"
      ]
    },
    {
      "cell_type": "code",
      "source": [
        "# Definindo o Parabolóide eliptíco\n",
        "def paraboloide_eliptico(a, b, c):\n",
        "    # Criando uma grade de pontos\n",
        "    x = np.linspace(-5*a, 5*a, 2000)\n",
        "    y = np.linspace(-5*b, 5*b, 2000)\n",
        "    x, y = np.meshgrid(x, y)\n",
        "\n",
        "    # equação\n",
        "    aux =  (x**2)/a**2 + (y**2)/b**2\n",
        "    z =  c * aux\n",
        "    return x,y,z\n",
        "\n",
        "\n",
        "a = 5 # Parâmetro relativo ao eixo x\n",
        "b = 1 # Parâmetro relativo ao eixo y\n",
        "c = 1 # Parâmetro relativo ao eixo z\n",
        "\n",
        "x,y,z = paraboloide_eliptico(a, b, c)\n",
        "plotar_paraboloide(x, y, z, a, b, c, elev=5, azim=-40)"
      ],
      "metadata": {
        "id": "BcU2B_cL2si4"
      },
      "execution_count": null,
      "outputs": []
    },
    {
      "cell_type": "markdown",
      "source": [
        "###Parabolóide hiperbólico:(pág.222)\n",
        "\n",
        "\n",
        "\n",
        "$z=\\frac{y^{2}}{b^{2}}-\\frac{x^{2}}{a^{2}}$\n",
        "\n",
        "\n",
        "\n",
        "$y=\\frac{z^{2}}{c^{2}}-\\frac{x^{2}}{a^{2}}$\n",
        "\n",
        "\n",
        "\n",
        "\n",
        "\n",
        "$x=\\frac{z^{2}}{c^{2}}-\\frac{y^{2}}{b^{2}}$"
      ],
      "metadata": {
        "id": "3L9vfjjT2wFg"
      }
    },
    {
      "cell_type": "markdown",
      "source": [
        "###Representação computacional"
      ],
      "metadata": {
        "id": "JTME_F0_3S6y"
      }
    },
    {
      "cell_type": "code",
      "source": [
        "# Definindo o Parabolóide Hiperbólico\n",
        "def paraboloide_hiperbolico(a, b, c):\n",
        "    # Criando uma grade de pontos\n",
        "    x = np.linspace(-5*a, 5*a, 2000)\n",
        "    y = np.linspace(-5*b, 5*b, 2000)\n",
        "    x, y = np.meshgrid(x, y)\n",
        "\n",
        "    # equação\n",
        "    aux =  (x**2)/a**2 - (y**2)/b**2\n",
        "    z =  c * aux\n",
        "    return x,y,z\n",
        "\n",
        "\n",
        "a = 5 # Parâmetro relativo ao eixo x\n",
        "b = 1 # Parâmetro relativo ao eixo y\n",
        "c = 1 # Parâmetro relativo ao eixo z\n",
        "\n",
        "x,y,z = paraboloide_hiperbolico(a, b, c)\n",
        "plotar_paraboloide(x, y, z, a, b, c, elev=5, azim=-40)"
      ],
      "metadata": {
        "id": "Lzip220O24Qo"
      },
      "execution_count": null,
      "outputs": []
    },
    {
      "cell_type": "markdown",
      "source": [
        "### Elipsóide\n",
        "\n"
      ],
      "metadata": {
        "id": "pxl1Z-Ac28ZA"
      }
    },
    {
      "cell_type": "markdown",
      "source": [
        "**Equação geral elipsoides**(pág.216)\n",
        "\n",
        "A equação geral de um elipsoide é:\n",
        "\n",
        "$\\frac{x^{2}}{a^{2}}+\\frac{y^{2}}{b^{2}}+\\frac{z^{2}}{c^{2}}=1$, $a,b,c$ são os raios do elipsoide\n",
        "\n",
        "**Exemplo:**\n",
        "\n",
        "$\\frac{x^{2}}{8}+\\frac{y^{2}}{4}+\\frac{z^{2}}{16}=1$  (pág:228)\n",
        "\n",
        "\n"
      ],
      "metadata": {
        "id": "j2MtMHQX3Izg"
      }
    },
    {
      "cell_type": "markdown",
      "source": [
        "###Representação computacional"
      ],
      "metadata": {
        "id": "riz6U_qY3Qpy"
      }
    },
    {
      "cell_type": "code",
      "source": [
        "import numpy as np\n",
        "import matplotlib.pyplot as plt\n",
        "from mpl_toolkits.mplot3d import Axes3D\n",
        "\n",
        "# Função para plotar a quadrica\n",
        "def plotar_elipsode(x, y, z, a, b, c, elev=30, azim=-60):\n",
        "    # Criando a figura e os eixos 3D\n",
        "    fig = plt.figure()\n",
        "    ax = fig.add_subplot(111, projection='3d')\n",
        "\n",
        "    # Plotando a superfície do paraboloide\n",
        "    ax.plot_surface(x, y, z, color='b', alpha=0.9)\n",
        "    ax.plot_surface(x, y, -z, color='b', alpha=0.9)\n",
        "\n",
        "    # Configurando os rótulos dos eixos\n",
        "    ax.set_xlabel('X')\n",
        "    ax.set_ylabel('Y')\n",
        "    ax.set_zlabel('Z')\n",
        "\n",
        "    # Ajustando os limites dos eixos\n",
        "    ax.set_xlim([-2*a, 2*a])\n",
        "    ax.set_ylim([-2*b, 2*b])\n",
        "    #ax.set_zlim([ 2*np.min(z), 2*np.max(z)] )\n",
        "\n",
        "    # Definindo o ângulo de visualização\n",
        "    ax.view_init(elev, azim) #Valores padrão: elev=30, azim=-60,"
      ],
      "metadata": {
        "id": "F1NPlwk73Zj9"
      },
      "execution_count": null,
      "outputs": []
    },
    {
      "cell_type": "code",
      "source": [
        "# Definindo o elipsóide\n",
        "def elipsoide(a, b, c):\n",
        "    # Criando uma grade de pontos\n",
        "    x = np.linspace(-2*a, 2*a, 5000)\n",
        "    y = np.linspace(-2*b, 2*b, 5000)\n",
        "    x, y = np.meshgrid(x, y)\n",
        "\n",
        "    # equação\n",
        "    dentro = 1 - (x**2)/a**2 - (y**2)/b**2\n",
        "    dentro[dentro < 0] = np.nan  # Substituir valores negativos por NaN\n",
        "    z =  c * np.sqrt(dentro)\n",
        "    return x,y,z\n",
        "\n",
        "\n",
        "a = 8 # Parâmetro relativo ao eixo x\n",
        "b = 4 # Parâmetro relativo ao eixo y\n",
        "c = 16 # Parâmetro relativo ao eixo z\n",
        "\n",
        "x,y,z = elipsoide(a, b, c)\n",
        "plotar_elipsode(x, y, z, a, b, c, elev=30, azim=-45)"
      ],
      "metadata": {
        "id": "30gHAx203deJ"
      },
      "execution_count": null,
      "outputs": []
    },
    {
      "cell_type": "markdown",
      "source": [
        "### Hiperbolóide"
      ],
      "metadata": {
        "id": "tZVntWcy3gvh"
      }
    },
    {
      "cell_type": "markdown",
      "source": [
        "**Equação geral hiperboloides**(pág.218)\n",
        "\n",
        "$\\frac{y^{2}}{b^{2}}-\\frac{z^{2}}{c^{2}}=1$, com $x=0$\n",
        "\n",
        "Hiperboloide de uma folha:(pág.219)\n",
        "\n",
        "$\\frac{x^{2}}{a^{2}}+\\frac{y^{2}}{b^{2}}-\\frac{z^{2}}{c^{2}}=1$\n",
        "\n",
        "**Exemplo:**\n",
        "\n",
        "$\\frac{x^{2}}{4}+\\frac{y^{2}}{9}-\\frac{z^{2}}{16}=1$(pág:229)"
      ],
      "metadata": {
        "id": "aRwirZ513mMj"
      }
    },
    {
      "cell_type": "markdown",
      "source": [
        "###Representação computacional"
      ],
      "metadata": {
        "id": "yZoxcRH03xq7"
      }
    },
    {
      "cell_type": "code",
      "source": [
        "import numpy as np\n",
        "import matplotlib.pyplot as plt\n",
        "from mpl_toolkits.mplot3d import Axes3D\n",
        "\n",
        "# Função para plotar a quadrica\n",
        "def plotar_hiperboloide(x, y, z, a, b, c, elev=30, azim=-60):\n",
        "    # Criando a figura e os eixos 3D\n",
        "    fig = plt.figure()\n",
        "    ax = fig.add_subplot(111, projection='3d')\n",
        "\n",
        "    # Plotando a superfície do paraboloide\n",
        "    ax.plot_surface(x, y, z, color='b', alpha=0.9)\n",
        "    ax.plot_surface(x, y, -z, color='b', alpha=0.9)\n",
        "\n",
        "    # Configurando os rótulos dos eixos\n",
        "    ax.set_xlabel('X')\n",
        "    ax.set_ylabel('Y')\n",
        "    ax.set_zlabel('Z')\n",
        "\n",
        "    # Ajustando os limites dos eixos\n",
        "    ax.set_xlim([-3*a, 3*a])\n",
        "    ax.set_ylim([-3*b, 3*b])\n",
        "    #ax.set_zlim([ 2*np.min(z), 2*np.max(z)] )\n",
        "\n",
        "    # Definindo o ângulo de visualização\n",
        "    ax.view_init(elev, azim) #Valores padrão: elev=30, azim=-60,"
      ],
      "metadata": {
        "id": "QiGDWEMG304b"
      },
      "execution_count": null,
      "outputs": []
    },
    {
      "cell_type": "code",
      "source": [
        "# Definindo o hiperboloide\n",
        "def hiperboloide1folha(a, b, c):\n",
        "    # Criando uma grade de pontos\n",
        "    x = np.linspace(-2*a, 2*a, 5000)\n",
        "    y = np.linspace(-2*b, 2*b, 5000)\n",
        "    x, y = np.meshgrid(x, y)\n",
        "\n",
        "    # equação\n",
        "    dentro = 1 - (x**2)/a**2 + (y**2)/b**2\n",
        "    dentro[dentro < 0] = np.nan  # Substituir valores negativos por NaN\n",
        "    z =  c * np.sqrt(dentro)\n",
        "    return x,y,z\n",
        "\n",
        "\n",
        "a = 4 # Parâmetro relativo ao eixo x\n",
        "b = 9 # Parâmetro relativo ao eixo y\n",
        "c = 16 # Parâmetro relativo ao eixo z\n",
        "\n",
        "x,y,z = hiperboloide1folha(a, b, c)\n",
        "plotar_hiperboloide(x, y, z, a, b, c, elev=30, azim=-40)"
      ],
      "metadata": {
        "id": "FUs1_sO034_j"
      },
      "execution_count": null,
      "outputs": []
    },
    {
      "cell_type": "markdown",
      "source": [
        "Hiperboloide de duas folhas:(pág.220)\n",
        "\n",
        "$-\\frac{x^{2}}{a^{2}}+\\frac{y^{2}}{b^{2}}-\\frac{z^{2}}{c^{2}}=1$\n",
        "\n",
        "**Exemplo:**\n",
        "\n",
        "$-x^{2}+\\frac{y^{2}}{4}-\\frac{z^{2}}{2}=1$(pág:229)"
      ],
      "metadata": {
        "id": "DL-X-bot38xb"
      }
    },
    {
      "cell_type": "markdown",
      "source": [
        "###Resolução computacional"
      ],
      "metadata": {
        "id": "DWCWSXIm4F1P"
      }
    },
    {
      "cell_type": "code",
      "source": [
        "# Definindo o hiperboloide\n",
        "def hiperboloide2folhas(a, b, c):\n",
        "    # Criando uma grade de pontos\n",
        "    x = np.linspace(-2*a, 2*a, 5000)\n",
        "    y = np.linspace(-2*b, 2*b, 5000)\n",
        "    x, y = np.meshgrid(x, y)\n",
        "\n",
        "    # equação\n",
        "    dentro = 1 + (x**2)/a**2 + (y**2)/b**2\n",
        "    dentro[dentro < 0] = np.nan  # Substituir valores negativos por NaN\n",
        "    z =  c * np.sqrt(dentro)\n",
        "    return x,y,z\n",
        "\n",
        "\n",
        "a = 1 # Parâmetro relativo ao eixo x\n",
        "b = 4 # Parâmetro relativo ao eixo y\n",
        "c = 2 # Parâmetro relativo ao eixo z\n",
        "\n",
        "x,y,z = hiperboloide2folhas(a, b, c)\n",
        "plotar_hiperboloide(x, y, z, a, b, c, elev=30, azim=-40)"
      ],
      "metadata": {
        "id": "6-Z7dMQ84Xrk"
      },
      "execution_count": null,
      "outputs": []
    }
  ]
}
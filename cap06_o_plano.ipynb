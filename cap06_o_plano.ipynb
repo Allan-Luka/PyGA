{
  "nbformat": 4,
  "nbformat_minor": 0,
  "metadata": {
    "colab": {
      "provenance": [],
      "authorship_tag": "ABX9TyMGx+mXZR0b2C2zEKLXw2gB",
      "include_colab_link": true
    },
    "kernelspec": {
      "name": "python3",
      "display_name": "Python 3"
    },
    "language_info": {
      "name": "python"
    }
  },
  "cells": [
    {
      "cell_type": "markdown",
      "metadata": {
        "id": "view-in-github",
        "colab_type": "text"
      },
      "source": [
        "<a href=\"https://colab.research.google.com/github/Allan-Luka/PyGA/blob/main/cap06_o_plano.ipynb\" target=\"_parent\"><img src=\"https://colab.research.google.com/assets/colab-badge.svg\" alt=\"Open In Colab\"/></a>"
      ]
    },
    {
      "cell_type": "markdown",
      "source": [
        "# Capítulo 6: O Plano"
      ],
      "metadata": {
        "id": "ADC01YzEyXkf"
      }
    },
    {
      "cell_type": "markdown",
      "source": [
        "## Objetivos:\n",
        "- Equação geral e equação normal do plano;\n",
        "- Interseção entre planos;\n",
        "- Posições relativas entre planos e retas."
      ],
      "metadata": {
        "id": "wc6T0Htsybyv"
      }
    },
    {
      "cell_type": "markdown",
      "source": [
        "###Equação geral e equação normal do plano\n",
        "\n",
        "\n",
        "**Equação geral do plano**:(pág.125)\n",
        "\n",
        "$ax+by+cz+d=0$\n",
        "\n",
        "**Exemplo**:Obtenha a equação geral do plano $π$ que passa pelo ponto $A(2, -1, 3)$ e tem $\\vec{n}=(3, 2, -4)$ como vetor normal.\n",
        "\n",
        "**Resolução:** Sabemos que a equação geral do plano é dada por $ax+by+cz+d=0$, temos então, $3x+2y-4z+d=0$ para determinar a equação completa temos que encontrar o valor de $d$, para isso basta substituir o ponto na equação e isolar o $d$.\n",
        "\n",
        "$3x+2y-4z+d=0$\n",
        "\n",
        "$3(2)+2(-1)-4(3)+d=0$, encontramos $d=8$.\n",
        "\n",
        "Equação geral do plano $π$ :\n",
        "\n",
        " $3x+2y-4z+8=0$\n",
        "\n",
        "\n",
        "**Exemplo**:Escrever uma equação geral do plano $π$ que passa pelo ponto $A(2, 1, 3)$ e é paralelo ao plano  $π_{1} :3x - 4y - 2z + 5 = 0$.\n",
        "\n",
        "**Resolução:** Para determinar a equação geral do plano $π$, precisamos de um ponto e um vetor diretor, o ponto foi fornecido no enunciado do exemplo $A(2, 1, 3)$.\n",
        "\n",
        "É fornecida a informação que o plano $π$  é paralelo ao plano $π_{1} :3x - 4y - 2z + 5 = 0$, o plano  $π_{1}$ tem vetor diretor igual a $\\vec{n}=(3, -4, -2)$, por serem paralelos o vetor diretor de $π_{1}$ é o mesmo de $π$.\n",
        "\n",
        "Chegamos a equação geral de  $π$ igual a $3x - 4y - 2z + d = 0$, precisamos determinar o valor de $d$ na equação, para isso substituimos o ponto dado na equação. $3(2) - 4(1) - 2(3) + d = 0$, encontramos portanto $d=4$.\n",
        "\n",
        "Equação geral do plano $π$: $3x - 4y - 2z + 4 = 0$\n",
        "\n",
        "**Equação vetorial do plano**:(pág.128)\n",
        "\n",
        "$(x,y,z) = (x_{0},y_{0},z_{0}) + h(a_{1},b_{1},c_{1}) + t(a_{2},b_{2},c_{2})$, onde $h$ e $t$ $∈$ aos $ℝ$.\n",
        "\n",
        "**Exemplo**:Seja o plano $π$ que passa pelo ponto A$(2, 2, -1)$ e é paralelo aos vetores $\\vec{u}=(2, -3, 1)$ e $\\vec{v}=(-1, 5, -3)$. Obter uma equação vetorial, um sistema de equações paramétricas e uma equação geral do plano $π$.\n",
        "\n",
        "**Resolução:**\n",
        "\n",
        "**Equação vetorial do plano** $π$:\n",
        "\n",
        "Sabemos por definição que, $(x,y,z) = (x_{0},y_{0},z_{0}) + h(a_{1},b_{1},c_{1}) + t(a_{2},b_{2},c_{2})$\n",
        "\n",
        "$(x, y, z)=(2, 2, -1)+h(2, -3, 1)+t(-1, 5, -3)$\n",
        "\n",
        "**Equações paramétricas do plano** $π$:\n",
        "\n",
        "$\\left\\{ \\begin{array}{cl}\n",
        "x = & \\ 2 \\ +2h-t\\\\\n",
        "y= &  \\ 2 \\ -3h+5t \\\\\n",
        "z= & \\ -1\\ +h-3t\n",
        "\\end{array} \\right.$\n",
        "\n",
        "**Equação geral do plano** $π$:\n",
        "\n",
        "Para determinar a equação geral faremos o produto vetorial entre $\\vec{u}$ X $\\vec{v}$ afim de determinar um vetor ortogonal ao plano.\n",
        "\n",
        "\n",
        "$\\vec{u}$ X $\\vec{v}$= $\\begin{vmatrix}\n",
        "\\hat{i} & \\hat{j} &  \\hat{k}\\\\2 &-3  & 1 \\\\-1 & 5 & -3\n",
        "\\end{vmatrix}$ = $\\begin{vmatrix}\n",
        "-3 & 1\\\\\n",
        "5 & -3\n",
        "\\end{vmatrix}$ $\\hat{i}$ - $\\begin{vmatrix}\n",
        "2 &  1\\\\\n",
        "-1 & -3\n",
        "\\end{vmatrix}$$\\hat{j}$ + $\\begin{vmatrix}\n",
        "2 &  -3\\\\\n",
        "-1 & 5\n",
        "\\end{vmatrix}$$\\hat{k}$= $(9 - 5)\\hat{i}$ - $(-6 + 1)\\hat{j}$ + $(10 - 3)\\hat{k}$= $(4, 5, 7)$.\n",
        "\n",
        "Como esse vetor encontrado é ortogonal ao plano podemos utilizar ele na equação $ax+by+cz+d=0$,\n",
        "\n",
        "$4x+5y+7z+d=0$, para determinar o valor de d, substituimos o ponto na equação ficando com,\n",
        "\n",
        "$4(2)+5(2)+7(-1)+d=0$, isolando d, encontramos, $d=-11$\n",
        "\n",
        "Equação geral do plano $π$:\n",
        "\n",
        "$4x+5y+7z-11=0$"
      ],
      "metadata": {
        "id": "GC_i927dyg7m"
      }
    },
    {
      "cell_type": "markdown",
      "source": [
        "###Parte computacional - Equação paramétrica e normal do plano."
      ],
      "metadata": {
        "id": "IBsKRV0Hyuaf"
      }
    },
    {
      "cell_type": "code",
      "execution_count": null,
      "metadata": {
        "id": "-gWm0OxyyRlT"
      },
      "outputs": [],
      "source": [
        "#Encontrar a equação geral do plano.\n",
        "\n",
        "\n",
        "def equation_of_plane(point, normal_vector):\n",
        "\n",
        "# Extrair as coordenadas do ponto:\n",
        "\n",
        "    x, y, z = point\n",
        "\n",
        "# Extrair as componentes do vetor normal:\n",
        "\n",
        "    a, b, c = normal_vector\n",
        "\n",
        "# Calcular o valor de d: ax + by + cz + d = 0:\n",
        "\n",
        "    d = - (a*x + b*y + c*z)\n",
        "\n",
        "# Converter os valores para string com seus sinais adequados:\n",
        "\n",
        "    a_str = str(a) if a <= 0 else f\"{a}\"\n",
        "    b_str = str(b) if b <= 0 else f\"+{b}\"\n",
        "    c_str = str(c) if c <= 0 else f\"+{c}\"\n",
        "    d_str = str(d) if d <= 0 else f\"+{d}\"\n",
        "\n",
        "# Retornar a equação geral do plano:\n",
        "\n",
        "    return f\"{a_str}x {b_str}y {c_str}z {d_str} = 0\"\n",
        "\n",
        "# Ponto dado:\n",
        "\n",
        "point_A = (2, 1, 3)\n",
        "\n",
        "# Vetor normal dado n(3,2,-4):\n",
        "\n",
        "normal_vector = (3, -4, -2)\n",
        "\n",
        "# Calcular a equação geral do plano\n",
        "equation = equation_of_plane(point_A, normal_vector)\n",
        "\n",
        "print(\"Equação geral do plano π:\", equation)"
      ]
    },
    {
      "cell_type": "code",
      "source": [
        "#Encontrar a equação paramétrica do plano.\n",
        "\n",
        "#Ponto A fornecido:\n",
        "\n",
        "x0, y0, z0 = 2, 2, -1\n",
        "\n",
        "#Vetores paralelos ao plano:\n",
        "\n",
        "a1, b1, c1 = 2, -3, 1\n",
        "a2, b2, c2 = -1, 5, -3\n",
        "\n",
        "#Equações paramétricas do plano:\n",
        "\n",
        "equacoes_parametricas = [\n",
        "    \"x = {} {} {}h {} {}t\".format(x0, \"+\" if a1 >= 0 else \"-\", abs(a1), \"+\" if a2 >= 0 else \"-\", abs(a2)),\n",
        "    \"y = {} {} {}h {} {}t\".format(y0, \"+\" if b1 >= 0 else \"-\", abs(b1), \"+\" if b2 >= 0 else \"-\", abs(b2)),\n",
        "    \"z = {} {} {}h {} {}t\".format(z0, \"+\" if c1 >= 0 else \"-\", abs(c1), \"+\" if c2 >= 0 else \"-\", abs(c2))\n",
        "]\n",
        "\n",
        "# Imprimir as equações paramétricas no formato adequado:\n",
        "\n",
        "print(\"Equações paramétricas do plano π:\")\n",
        "for equacao in equacoes_parametricas:\n",
        "    print(equacao)"
      ],
      "metadata": {
        "id": "QFLR5ovPy0dw"
      },
      "execution_count": null,
      "outputs": []
    }
  ]
}
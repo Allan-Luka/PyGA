{
  "nbformat": 4,
  "nbformat_minor": 0,
  "metadata": {
    "colab": {
      "provenance": [],
      "authorship_tag": "ABX9TyOOUPSFe3bZJ1Sfc5P3vI15",
      "include_colab_link": true
    },
    "kernelspec": {
      "name": "python3",
      "display_name": "Python 3"
    },
    "language_info": {
      "name": "python"
    }
  },
  "cells": [
    {
      "cell_type": "markdown",
      "metadata": {
        "id": "view-in-github",
        "colab_type": "text"
      },
      "source": [
        "<a href=\"https://colab.research.google.com/github/Allan-Luka/PyGA/blob/main/cap08_c%C3%B4nicas.ipynb\" target=\"_parent\"><img src=\"https://colab.research.google.com/assets/colab-badge.svg\" alt=\"Open In Colab\"/></a>"
      ]
    },
    {
      "cell_type": "markdown",
      "source": [
        "# Capítulo 8: Cônicas\n"
      ],
      "metadata": {
        "id": "DAqLSpgq0DHC"
      }
    },
    {
      "cell_type": "markdown",
      "source": [
        "## Objetivos:\n",
        "- Equações gerais de círculos, elipses, hipérboles e parábolas;\n",
        "- Representação gráfica das cônicas.\n"
      ],
      "metadata": {
        "id": "yahjqAZE0M16"
      }
    },
    {
      "cell_type": "markdown",
      "source": [
        "###Equações gerais de circulos, elipses, hipérboles e parábolas\n",
        "\n",
        "\n",
        "**Equação geral de circulos** (pág.179,180)\n",
        "\n",
        "$\\frac{x^{2}}{a^{2}}+\\frac{y^{2}}{b^{2}}=1$, quando $a$ e $b$ são iguais temos uma circunferência.\n",
        "\n",
        "**Equação geral de elipses**(pág.183)\n",
        "\n",
        "$(ax²+by²+cx+dy+f=0)$\n",
        "\n",
        "$\\frac{(x-h)^{2}}{a^{2}}+\\frac{(y-k^{})^{2}}{b^{2}}^{}=1$, onde $(h, k)$, são as coordenadas do centro da elipse, $a$ é o semieixo maior e $b$ semieixo menor.\n",
        "\n",
        "**Casos particulares**\n",
        "\n",
        "**1° O eixo maior está sobre o eixo x:**(pág.179,180)\n",
        "\n",
        "$\\frac{x^{2}}{a^{2}}+\\frac{y^{2}}{b^{2}}=1$\n",
        "\n",
        "\n",
        "**2° O eixo maior está sobre o eixo y:**(pág.180)\n",
        "\n",
        "$\\frac{x^{2}}{b^{2}}+\\frac{y^{2}}{a^{2}}=1$\n",
        "\n",
        "**Exemplo:**\n",
        "\n",
        "$1)\\frac{x^{2}}{25}+\\frac{y^{2}}{9}=1$ (pág.181)\n",
        "\n",
        "\n",
        "\n",
        "\n",
        "\n",
        "**Equação geral de hipérboles**(pág.194)\n",
        "\n",
        "$(c²=a²+b²)$\n",
        "\n",
        "**Casos particulares**\n",
        "\n",
        "**1° O eixo maior está sobre o eixo x:**(pág.195)\n",
        "\n",
        "\n",
        "\n",
        "$\\frac{x^{2}}{a^{2}}-\\frac{y^{2}}{b^{2}}=1$\n",
        "\n",
        "\n",
        "**2° O eixo maior está sobre o eixo y:**(pág.196)\n",
        "\n",
        "\n",
        "\n",
        "$\\frac{y^{2}}{b^{2}}-\\frac{x^{2}}{a^{2}}=1$\n",
        "\n",
        "**Exemplo:**\n",
        "\n",
        "$1)\\frac{x^{2}}{9}-\\frac{y^{2}}{4}=1$\n",
        "\n",
        "\n",
        "\n",
        "**Equação geral de parábolas**(pág.169)\n",
        "\n",
        "\n",
        "$ax²+bx+c=0$, $a ≠ 0$\n",
        "\n",
        "**Exemplos:**\n",
        "\n",
        "$1)x²=8y$ (pág.165)\n",
        "\n",
        "$2)x=-\\frac{1}{2}y^{2}$ (pág.165)\n"
      ],
      "metadata": {
        "id": "ZvoXYmry0cV-"
      }
    },
    {
      "cell_type": "markdown",
      "source": [
        "###Elípse"
      ],
      "metadata": {
        "id": "9kUxBBEq0r77"
      }
    },
    {
      "cell_type": "code",
      "source": [
        "#Elípses:\n",
        "\n",
        "import numpy as np\n",
        "import matplotlib.pyplot as plt\n",
        "\n",
        "# Equação da elipse:\n",
        "\n",
        "a, b = 5, 3  # Semi-eixos da elipse\n",
        "x0, y0 = 0, 0  # Centro da elipse\n",
        "\n",
        "# Variação do parâmetro t:\n",
        "\n",
        "t = np.linspace(0, 2 * np.pi, 100)\n",
        "\n",
        "# Equações paramétricas da elipse:\n",
        "\n",
        "x = a * np.cos(t) + x0\n",
        "y = b * np.sin(t) + y0\n",
        "\n",
        "# Criando gráfico:\n",
        "\n",
        "plt.plot(x, y)\n",
        "\n",
        "#Eixo x e y:\n",
        "\n",
        "plt.axhline(0, color='red',linewidth=1)\n",
        "plt.axvline(0, color='red',linewidth=1)\n",
        "\n",
        "# Adicionando rótulos e título:\n",
        "\n",
        "plt.xlabel('x')\n",
        "plt.ylabel('y')\n",
        "plt.title('Gráfico da Elipse $\\\\frac{x^{2}}{25}+\\\\frac{y^{2}}{9}=1$')\n",
        "\n",
        "# Variação dos eixos:\n",
        "\n",
        "plt.axis([-6, 6, -4, 4])  # Ajustando a escala dos eixos conforme necessário\n",
        "\n",
        "# Mostrar o gráfico\n",
        "\n",
        "plt.grid(True)\n",
        "plt.show()"
      ],
      "metadata": {
        "id": "PG7nD6Cm0qJH"
      },
      "execution_count": null,
      "outputs": []
    },
    {
      "cell_type": "markdown",
      "source": [
        "###Hipérbole"
      ],
      "metadata": {
        "id": "mONfRwnw00ys"
      }
    },
    {
      "cell_type": "code",
      "execution_count": null,
      "metadata": {
        "id": "tkMs1coA0CRK"
      },
      "outputs": [],
      "source": [
        "#Hipérboles:\n",
        "\n",
        "import numpy as np\n",
        "import matplotlib.pyplot as plt\n",
        "\n",
        "# Equação da hipérbole:\n",
        "a, b = 3, 2  # Semi-eixos da hipérbole\n",
        "x0, y0 = 0, 0  # Centro da hipérbole\n",
        "\n",
        "# Variação do parâmetro t:\n",
        "t = np.linspace(-2 * np.pi, 2 * np.pi, 400)\n",
        "\n",
        "# Equações paramétricas da hipérbole:\n",
        "x = a * np.cosh(t) + x0\n",
        "y = b * np.sinh(t) + y0\n",
        "\n",
        "# Criando gráfico:\n",
        "plt.plot(x, y, color='black')\n",
        "plt.plot(-x, y, color='black')  # Plotando o outro lado da hipérbole\n",
        "\n",
        "# Eixo x e y:\n",
        "\n",
        "plt.axhline(0, color='red', linewidth=1)\n",
        "plt.axvline(0, color='red', linewidth=1)\n",
        "\n",
        "# Adicionando rótulos e título:\n",
        "\n",
        "plt.xlabel('Eixo: x')\n",
        "plt.ylabel('Eixo: y')\n",
        "plt.title('Gráfico da Hipérbole $\\\\frac{x^{2}}{9}-\\\\frac{y^{2}}{4}=1$')\n",
        "\n",
        "# Variação dos eixos:\n",
        "\n",
        "plt.axis([-5, 5, -5, 5])\n",
        "\n",
        "# Mostrar o gráfico:\n",
        "\n",
        "plt.grid(True)\n",
        "plt.show()"
      ]
    },
    {
      "cell_type": "markdown",
      "source": [
        "###Parábolas:"
      ],
      "metadata": {
        "id": "fFG1npMk08hz"
      }
    },
    {
      "cell_type": "code",
      "source": [
        "#Representação gráfica da parábola: #x²=8y\n",
        "\n",
        "import numpy as np\n",
        "import matplotlib.pyplot as plt\n",
        "\n",
        "# Gerando valores para y:\n",
        "\n",
        "y = np.linspace(0, 10)  # Intervalo para y\n",
        "\n",
        "# Calculando x para y positivos e negativos:\n",
        "\n",
        "x_positive = np.sqrt(8 * y)   # Calculando x para y positivos\n",
        "x_negative = -np.sqrt(8 * y)  # Calculando x para y negativos\n",
        "\n",
        "# Plotando ambos os lados da parábola:\n",
        "\n",
        "plt.plot(x_positive, y, label='$x^2 = 8y$')\n",
        "plt.plot(x_negative, y, label='$x^2 = 8y$') # Plotando o lado negativo\n",
        "\n",
        "# Adicionando rótulos e título:\n",
        "\n",
        "plt.xlabel('x')\n",
        "plt.ylabel('y')\n",
        "plt.title('Gráfico da parábola $x^2 = 8y$')\n",
        "\n",
        "# Exibindo os eixos x e y:\n",
        "\n",
        "plt.axhline(0, color='red',linewidth=1)\n",
        "plt.axvline(0, color='red',linewidth=1)\n",
        "\n",
        "# Adicionando uma legenda:\n",
        "\n",
        "plt.legend()\n",
        "\n",
        "# Exibindo o gráfico:\n",
        "\n",
        "plt.grid(True)\n",
        "plt.show()"
      ],
      "metadata": {
        "id": "lV1fvkN20_QE"
      },
      "execution_count": null,
      "outputs": []
    },
    {
      "cell_type": "code",
      "source": [
        "#Representação gráfica da parábola: x=-1/2y²\n",
        "\n",
        "import numpy as np\n",
        "import matplotlib.pyplot as plt\n",
        "\n",
        "# Gerando valores para y positivos e negativos\n",
        "y_positive = np.linspace(0, 10, 400)  # Intervalo para y positivos\n",
        "y_negative = np.linspace(0, -10, 400) # Intervalo para y negativos\n",
        "\n",
        "# Calculando x para y positivos e negativos\n",
        "x_positive = -0.5 * y_positive**2   # Calculando x para y positivos\n",
        "x_negative = -0.5 * y_negative**2   # Calculando x para y negativos\n",
        "\n",
        "# Plotando ambos os lados da parábola\n",
        "plt.plot(x_positive, y_positive, label='$x = -\\\\frac{1}{2}y^2$')\n",
        "plt.plot(x_negative, y_negative, label='$x = -\\\\frac{1}{2}y^2$') # Plotando o lado negativo\n",
        "\n",
        "# Adicionando rótulos e título\n",
        "plt.xlabel('x')\n",
        "plt.ylabel('y')\n",
        "plt.title('Gráfico da parábola $x = -\\\\frac{1}{2}y^2$')\n",
        "\n",
        "# Exibindo os eixos x e y:\n",
        "\n",
        "plt.axhline(0, color='red',linewidth=1)\n",
        "plt.axvline(0, color='red',linewidth=1)\n",
        "\n",
        "# Adicionando uma legenda\n",
        "plt.legend()\n",
        "\n",
        "# Exibindo o gráfico\n",
        "plt.grid(True)\n",
        "plt.show()"
      ],
      "metadata": {
        "id": "iWOz7HsK1HU0"
      },
      "execution_count": null,
      "outputs": []
    }
  ]
}
{
  "nbformat": 4,
  "nbformat_minor": 0,
  "metadata": {
    "colab": {
      "provenance": [],
      "authorship_tag": "ABX9TyPaBQOXzpokeO8P6VKYyyc5",
      "include_colab_link": true
    },
    "kernelspec": {
      "name": "python3",
      "display_name": "Python 3"
    },
    "language_info": {
      "name": "python"
    }
  },
  "cells": [
    {
      "cell_type": "markdown",
      "metadata": {
        "id": "view-in-github",
        "colab_type": "text"
      },
      "source": [
        "<a href=\"https://colab.research.google.com/github/Allan-Luka/PyGA/blob/main/cap04_produto_misto.ipynb\" target=\"_parent\"><img src=\"https://colab.research.google.com/assets/colab-badge.svg\" alt=\"Open In Colab\"/></a>"
      ]
    },
    {
      "cell_type": "markdown",
      "source": [
        "# Capítulo 4: Produto Misto"
      ],
      "metadata": {
        "id": "2s6MJLuFv3dY"
      }
    },
    {
      "cell_type": "markdown",
      "source": [
        "## Objetivos:\n",
        "- Definição e propriedades do produto misto;\n",
        "- Cálculo do produto misto entre três vetores;\n",
        "- Volume do paralelepípedo formado pelos vetores;\n",
        "- Aplicação do produto misto na engenharia civil.\n",
        "\n"
      ],
      "metadata": {
        "id": "b3Y1_d_5v884"
      }
    },
    {
      "cell_type": "markdown",
      "source": [
        "###Definição (pág.93)\n",
        "\n",
        "O produto misto é uma operação matemática que realizamos com vetores, misturando o produto escalar com o vetorial, temos a seguinte notação:\n",
        "\n",
        "$\\vec{u}$ . $\\vec{v}$ X $\\vec{w}$ ou ($\\vec{u}$,$\\vec{v}$,$\\vec{w}$)\n",
        "\n",
        "\n",
        "###Propriedades do produto misto (pág.94,95)\n",
        "\n",
        "$1ª$ O produto misto ($\\vec{u}$,$\\vec{v}$,$\\vec{w}$) muda seu sinal se trocarmos a posição de dois vetores.\n",
        "\n",
        "**Exemplo:** Vamos supor que o produto misto entre três vetores ($\\vec{u}$,$\\vec{v}$,$\\vec{w}$) deu $27$.\n",
        "\n",
        "($\\vec{v}$,$\\vec{u}$,$\\vec{w}$)= $-27$ (Permuta de $\\vec{u}$ e $\\vec{v}$)\n",
        "\n",
        "($\\vec{u}$,$\\vec{v}$,$\\vec{w}$)=$-27$ (Permuta de $\\vec{u}$ e $\\vec{w}$)\n",
        "\n",
        "($\\vec{u}$,$\\vec{v}$,$\\vec{w}$)=$-27$ (Permuta de $\\vec{v}$ e $\\vec{w}$)\n",
        "\n",
        "Se realizarmos novamente a permuta em um dos três produtos mistos, o valor retorna a ser $27$.\n",
        "\n",
        "Em relação ao produto misto ($\\vec{u}$,$\\vec{v}$,$\\vec{w}$).\n",
        "\n",
        "$a)$**Uma permutação** - haverá troca de sinal;\n",
        "\n",
        "$b)$**Duas permutações** - não altera o valor;\n",
        "\n",
        "$2ª$ Para essa propriedade vamos utilizar quatro vetores, $\\vec{u}$, $\\vec{v}$, $\\vec{w}$ e $\\vec{x}$.\n",
        "\n",
        "($\\vec{u}$+$\\vec{x}$,$\\vec{v}$,$\\vec{w}$)=($\\vec{u}$,$\\vec{v}$,$\\vec{w}$)+($\\vec{x}$,$\\vec{v}$,$\\vec{w}$)\n",
        "\n",
        "($\\vec{u}$,$\\vec{v}$+$\\vec{x}$,$\\vec{w}$)=($\\vec{u}$,$\\vec{v}$,$\\vec{w}$)+($\\vec{u}$,$\\vec{x}$,$\\vec{w}$)\n",
        "\n",
        "($\\vec{u}$,$\\vec{v}$,$\\vec{w}$+$\\vec{x}$)=($\\vec{u}$,$\\vec{v}$,$\\vec{w}$)+($\\vec{u}$,$\\vec{v}$,$\\vec{x}$)\n",
        "\n",
        "$3ª$ Para essa propriedade vamos utilizar três vetores, $\\vec{u}$, $\\vec{v}$, $\\vec{w}$ e o escalar $α$.\n",
        "\n",
        "($α$$\\vec{u}$,$\\vec{v}$,$\\vec{w}$)=($\\vec{u}$,$α$$\\vec{v}$,$\\vec{w}$)=($\\vec{u}$,$\\vec{v}$,$α$$\\vec{w}$)=$α$($\\vec{u}$,$\\vec{v}$,$\\vec{w}$)\n",
        "\n",
        "\n",
        "$4ª$ ($\\vec{v}$,$\\vec{u}$,$\\vec{w}$)=0 se, e somente se, os três vetores estiverem no mesmo plano."
      ],
      "metadata": {
        "id": "t_zseUZKwHbZ"
      }
    },
    {
      "cell_type": "markdown",
      "source": [
        "###Cálculo do produto misto entre três vetores (pág.93)\n",
        "\n",
        "Para o cálculo do produto misto $\\vec{u}$ . $\\vec{v}$ X $\\vec{w}$ utilizaremos os vetores genéricos, $\\vec{u}=(x_{1},y_{1},z_{1})$, $\\vec{v}$=$(x_{2}, y_{2}, z_{2})$ e $\\vec{w}$=$(x_{3}, y_{3}, z_{3})$.\n",
        "\n",
        "Para determinar tal operação utilizaremos novamente o conceito de matriz, sendo montada na mesma sequência indicada na operação $\\vec{u}$ . $\\vec{v}$ X $\\vec{w}$:\n",
        "\n",
        "($\\vec{u}$.$\\vec{v}$X$\\vec{w}$)=$\\begin{vmatrix}\n",
        "x_{1} & y_{1} & z_{1} \\\\\n",
        "x_{2} & y_{2} & z_{2} \\\\\n",
        "x_{3} &  y_{3}& z_{3}\n",
        "\\end{vmatrix}$\n",
        "\n",
        "O produto misto tem como resultado sempre um escalar.\n",
        "\n",
        "**Exemplo 1**:Calcular o produto misto dos vetores $\\vec{u}$=$2\\hat{i} + 3\\hat{j} + 5\\hat{k}$, $\\vec{v}$=$-\\hat{i} + 3\\hat{j} + 3\\hat{k}$ e $\\vec{w}$=$4\\hat{i} - 3\\hat{j} + 2\\hat{k}$\n",
        "\n",
        "**Resolução:**($\\vec{u}$,$\\vec{v}$,$\\vec{w}$)= $\\begin{vmatrix}\n",
        "2 & 3 & 5 \\\\\n",
        "-1 & 3 & 3 \\\\\n",
        "4 & -3& 2\n",
        "\\end{vmatrix}$=$\\begin{vmatrix}\n",
        "3 & 3\\\\\n",
        "-3 & 2\n",
        "\\end{vmatrix}$ $2$ - $\\begin{vmatrix}\n",
        "-1 &  3\\\\\n",
        "4 & 2\n",
        "\\end{vmatrix}$$3$ + $\\begin{vmatrix}\n",
        "-1 & 3\\\\\n",
        "4 & -3\n",
        "\\end{vmatrix}$$5$=$(6 + 9)2$ - $(-2 - 12)3$ + $(3 - 12)5$= $27$\n",
        "\n",
        "\n",
        "\n",
        "**Exemplo 2**:Verificar se são coplanares os vetores $\\vec{u}$=$(2,-1,1)$, $\\vec{v}$=$(1,0,-1)$ e $\\vec{w}$=$(2,-1,4)$.\n",
        "\n",
        "**Resolução:**Sabemos que três vetores são coplanares, se e somente se, o determinante for igual a 0. Calculando o determinante.\n",
        "\n",
        "($\\vec{u}$,$\\vec{v}$,$\\vec{w}$)=$\\begin{vmatrix}\n",
        "2 & -1 & 1 \\\\\n",
        "1 & 0 & -1 \\\\\n",
        "2 & -1& 4\n",
        "\\end{vmatrix}$ =$\\begin{vmatrix}\n",
        "0 & -1\\\\\n",
        "-1 & 4\n",
        "\\end{vmatrix}$ $2$ - $\\begin{vmatrix}\n",
        "1 & -1\\\\\n",
        "2 & 4\n",
        "\\end{vmatrix}$$-1$ + $\\begin{vmatrix}\n",
        "1 & 0\\\\\n",
        "2 & -1\n",
        "\\end{vmatrix}1$ = $(0 - 1)2$ - $(4 + 2)-1$ + $(-1 - 0)1$ = $3$ ≠ $0$, sendo assim os vetores não são coplanares.\n"
      ],
      "metadata": {
        "id": "-Fy810sBwTcT"
      }
    },
    {
      "cell_type": "markdown",
      "source": [
        "###Parte computacional - Produto misto"
      ],
      "metadata": {
        "id": "HogG1l6nwgZR"
      }
    },
    {
      "cell_type": "code",
      "source": [
        "#Cálculo do produto misto entre dois vetores\n",
        "\n",
        "import numpy as np\n",
        "\n",
        "def produto_misto(u, v, w):\n",
        "\n",
        "# Calcula o produto vetorial entre u e v:\n",
        "\n",
        "    produto_vetorial = np.cross(u, v)\n",
        "\n",
        "# Calcula o produto escalar entre o produto vetorial e w:\n",
        "\n",
        "    produto_misto = np.dot(produto_vetorial, w)\n",
        "\n",
        "    return produto_misto\n",
        "\n",
        "# Vetores de exemplo:\n",
        "\n",
        "u = np.array([2, 3, 5])\n",
        "v = np.array([-1, 3, 3])\n",
        "w = np.array([4, -3, 2])\n",
        "\n",
        "# Calcula o produto misto:\n",
        "\n",
        "resultado = produto_misto(u, v, w)\n",
        "print(\"O produto misto entre os três vetores é:\", resultado)"
      ],
      "metadata": {
        "id": "-mPR885nwfiD"
      },
      "execution_count": null,
      "outputs": []
    },
    {
      "cell_type": "code",
      "source": [
        "#Cálculo do produto misto entre dois vetores - Representação geral\n",
        "\n",
        "import numpy as np\n",
        "\n",
        "# Função para calcular o produto misto:\n",
        "\n",
        "def produto_misto(u, v, w):\n",
        "\n",
        "# Calcula o produto vetorial entre u e v:\n",
        "\n",
        "    produto_vetorial = np.cross(u, v)\n",
        "\n",
        "# Calcula o produto escalar entre o produto vetorial e w:\n",
        "    produto_misto = np.dot(produto_vetorial, w)\n",
        "\n",
        "    return produto_misto\n",
        "\n",
        "# Entrada dos vetores\n",
        "x, y, z = np.array([float(i) for i in input('Digite o valor das componentes x, y e z do vetor u: ').split()])\n",
        "x1, y1, z1 = np.array([float(i) for i in input('Digite o valor das componentes x, y e z do vetor v: ').split()])\n",
        "x2, y2, z2 = np.array([float(i) for i in input('Digite o valor das componentes x, y e z do vetor w: ').split()])\n",
        "\n",
        "u = np.array([x, y, z])\n",
        "v = np.array([x1, y1, z1])\n",
        "w = np.array([x2, y2, z2])\n",
        "\n",
        "# Cálcula o produto misto\n",
        "resultado = produto_misto(u, v, w)\n",
        "print(\"O produto misto entre os três vetores é:\", resultado)\n"
      ],
      "metadata": {
        "id": "m4zrAgzGwnzx"
      },
      "execution_count": null,
      "outputs": []
    },
    {
      "cell_type": "markdown",
      "source": [
        "###Volume do paralelepípedo formado pelos vetores (pág.96,97)\n",
        "\n",
        "Para determinar o volume $(V)$ do paralelepípedo utilizaremos a seguinte fórmula:\n",
        "\n",
        "$V$=| ($\\vec{u}$, $\\vec{v}$, $\\vec{w}$) |, portanto o volume é determinado pelo módulo do produto misto.\n",
        "\n",
        "**Exemplo**:Determine o volume do paralelepípedo formado pelos vetores $\\vec{u}$=$(2,-1,1)$, $\\vec{v}$=$(1,0,-1)$ e $\\vec{w}$=$(2,-1,4)$.\n",
        "\n",
        "**Resolução:**Calculamos anteriormente o produto misto dos três vetores ($\\vec{u}$, $\\vec{v}$, $\\vec{w}$)=$3$.\n",
        "\n",
        "O volume do paralelepípedo será determinado por $V$=| ($\\vec{u}$, $\\vec{v}$, $\\vec{w}$) |= $|3|$= $3 u.v$\n"
      ],
      "metadata": {
        "id": "wS_Qp1Efwtbi"
      }
    },
    {
      "cell_type": "markdown",
      "source": [
        "###Parte computacional - Volume através do produto misto"
      ],
      "metadata": {
        "id": "Wu4DE4cOwvcb"
      }
    },
    {
      "cell_type": "code",
      "source": [
        "#Cálculo do volume do paralelepípedo formado pelos vetores.\n",
        "\n",
        "import numpy as np\n",
        "\n",
        "def produto_misto(u, v, w):\n",
        "\n",
        "    # Calcula o produto vetorial entre u e v:\n",
        "\n",
        "    produto_vetorial = np.cross(u, v)\n",
        "\n",
        "    # Calcula o produto escalar entre o produto vetorial e w:\n",
        "\n",
        "    produto_misto = np.dot(produto_vetorial, w)\n",
        "\n",
        "    return produto_misto\n",
        "\n",
        "# Vetores de exemplo\n",
        "\n",
        "u = np.array([2, 3, 5])\n",
        "v = np.array([4, -3, 2])\n",
        "w = np.array([-1, 3, 3])\n",
        "\n",
        "# Calcula o produto misto:\n",
        "\n",
        "resultado = produto_misto(u, v, w)\n",
        "print(\"O produto misto entre os três vetores é:\", resultado)\n",
        "\n",
        "# Calcula o módulo do resultado:\n",
        "\n",
        "modulo_resultado = np.abs(resultado)\n",
        "print(\"O volume do paralelepípedo é:\", modulo_resultado)"
      ],
      "metadata": {
        "id": "mp8QxMiFwzIa"
      },
      "execution_count": null,
      "outputs": []
    },
    {
      "cell_type": "code",
      "source": [
        "##Cálculo do volume do paralelepípedo formado pelos vetores - Representação geral\n",
        "\n",
        "import numpy as np\n",
        "\n",
        "# Função para calcular o produto misto:\n",
        "\n",
        "def produto_misto(u, v, w):\n",
        "\n",
        "# Calcula o produto vetorial entre u e v:\n",
        "\n",
        "    produto_vetorial = np.cross(u, v)\n",
        "\n",
        "# Calcula o produto escalar entre o produto vetorial e w:\n",
        "    produto_misto = np.dot(produto_vetorial, w)\n",
        "\n",
        "    return produto_misto\n",
        "\n",
        "# Entrada dos vetores\n",
        "x, y, z = np.array([float(i) for i in input('Digite o valor das componentes x, y e z do vetor u: ').split()])\n",
        "x1, y1, z1 = np.array([float(i) for i in input('Digite o valor das componentes x, y e z do vetor v: ').split()])\n",
        "x2, y2, z2 = np.array([float(i) for i in input('Digite o valor das componentes x, y e z do vetor w: ').split()])\n",
        "\n",
        "u = np.array([x, y, z])\n",
        "v = np.array([x1, y1, z1])\n",
        "w = np.array([x2, y2, z2])\n",
        "\n",
        "# Cálcula o produto misto\n",
        "resultado = produto_misto(u, v, w)\n",
        "print(\"O produto misto entre os três vetores é:\", resultado)\n",
        "\n",
        "# Cálcula o volume:\n",
        "\n",
        "modulo_resultado = np.abs(resultado)\n",
        "print(\"O volume do paralelepípedo formado pelos três vetores é:\", modulo_resultado)"
      ],
      "metadata": {
        "id": "kJR95cq-w5Ey"
      },
      "execution_count": null,
      "outputs": []
    },
    {
      "cell_type": "markdown",
      "source": [
        "###Aplicações em engenharia civil"
      ],
      "metadata": {
        "id": "_EjWzCp702P8"
      }
    },
    {
      "cell_type": "markdown",
      "source": [
        "* **Questão 3.55:** O suporte ACD está articulado em A e D e é sustentado por um cabo que passa através do anel em B, e que está preso nos ganchos em G e H. Sabendo que a tração no cabo BH é de 400 N, determine o momento, em relação à diagonal AD, da força aplicada no suporte pelo segmento BH do cabo.\n",
        "\n",
        "![beer 1.png](data:image/png;base64,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)\n",
        "\n",
        "\n",
        "\n",
        "**Referência:**BEER, Ferdinand P. et al. Mecânica dos materiais. Porto Alegre: Amgh, 2011."
      ],
      "metadata": {
        "id": "c1sbJnqK0976"
      }
    },
    {
      "cell_type": "markdown",
      "source": [
        "###Resolução matemática"
      ],
      "metadata": {
        "id": "qT5hRTQF1KC8"
      }
    },
    {
      "cell_type": "markdown",
      "source": [
        "Para determinar o momento aplicado no cabo utilizamos a relação, $M_{OL}=\\hat \\lambda .(\\vec r X\\vec F)$, que é o produto misto entre os três vetores.\n",
        "\n",
        "Determinando os vetores:\n",
        "\n",
        "$\\vec T_{BH}=400 \\hat \\lambda_{BH}$ ;\n",
        "\n",
        "$\\hat \\lambda_{BH}=\\frac{\\overrightarrow{BH}}{\\left| \\overrightarrow{BH} \\right|}$ ;\n",
        "\n",
        "\n",
        "$\\hat \\lambda_{DA}=\\frac{\\overrightarrow{DA}}{\\left| \\overrightarrow{DA} \\right|}$;\n",
        "\n",
        "$\\vec r_{AB}=\\overrightarrow{AB}$.\n",
        "\n",
        "\n",
        "Calculando temos:\n",
        "\n",
        "\n",
        "$\\hat \\lambda_{BH}=(0,333;0,667;-0,667)$;\n",
        "\n",
        "$\\vec T_{BH}=(150;300;-300)N$;\n",
        "\n",
        "$\\hat \\lambda_{DA}=(0,5;0;0)$.\n",
        "\n",
        "\n",
        " $M_{DA}=\\hat \\lambda_{DA} .(\\vec r_{AB}X\\vec T_{BH})$=$\\begin{vmatrix}\n",
        "-0,800 & 0,000 & 0,600 \\\\\n",
        "0,5 & 0,0 & 0,0 \\\\\n",
        "150 & 300 & -300\n",
        "\\end{vmatrix}$=$90 N.m$"
      ],
      "metadata": {
        "id": "pghPp6Go1PpF"
      }
    },
    {
      "cell_type": "markdown",
      "source": [
        "###Resolução Computacional"
      ],
      "metadata": {
        "id": "y9fkspha1Uf8"
      }
    },
    {
      "cell_type": "code",
      "source": [
        "#Cálculo do produto misto entre dois vetores:\n",
        "\n",
        "import numpy as np\n",
        "\n",
        "def produto_misto(u, v, w):\n",
        "\n",
        "# Calcula o produto vetorial entre u e v:\n",
        "\n",
        "    produto_vetorial = np.cross(u, v)\n",
        "\n",
        "# Calcula o produto escalar entre o produto vetorial e w:\n",
        "\n",
        "    produto_misto = np.dot(produto_vetorial, w)\n",
        "\n",
        "    return produto_misto\n",
        "\n",
        "# Vetores de exemplo:\n",
        "\n",
        "u = np.array([-0.8, 0, 0.6])\n",
        "v = np.array([0.5, 0, 0])\n",
        "w = np.array([150, 300, -300])\n",
        "\n",
        "# Calcula o produto misto:\n",
        "\n",
        "resultado = produto_misto(u, v, w)\n",
        "print(\"O produto misto entre os três vetores é:\", resultado)"
      ],
      "metadata": {
        "id": "5meUSxMa1Tro"
      },
      "execution_count": null,
      "outputs": []
    }
  ]
}
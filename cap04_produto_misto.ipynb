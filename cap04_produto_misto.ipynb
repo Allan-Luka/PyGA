{
  "nbformat": 4,
  "nbformat_minor": 0,
  "metadata": {
    "colab": {
      "provenance": [],
      "authorship_tag": "ABX9TyNAqVNv2kgiM3UsWJw1zba+",
      "include_colab_link": true
    },
    "kernelspec": {
      "name": "python3",
      "display_name": "Python 3"
    },
    "language_info": {
      "name": "python"
    }
  },
  "cells": [
    {
      "cell_type": "markdown",
      "metadata": {
        "id": "view-in-github",
        "colab_type": "text"
      },
      "source": [
        "<a href=\"https://colab.research.google.com/github/Allan-Luka/PyGA/blob/main/cap04_produto_misto.ipynb\" target=\"_parent\"><img src=\"https://colab.research.google.com/assets/colab-badge.svg\" alt=\"Open In Colab\"/></a>"
      ]
    },
    {
      "cell_type": "markdown",
      "source": [
        "# Capítulo 4: Produto Misto"
      ],
      "metadata": {
        "id": "2s6MJLuFv3dY"
      }
    },
    {
      "cell_type": "markdown",
      "source": [
        "## Objetivos:\n",
        "- Definição e propriedades do produto misto;\n",
        "- Cálculo do produto misto entre três vetores;\n",
        "- Volume do paralelepípedo formado pelos vetores.\n",
        "\n"
      ],
      "metadata": {
        "id": "b3Y1_d_5v884"
      }
    },
    {
      "cell_type": "markdown",
      "source": [
        "###Definição (pág.93)\n",
        "\n",
        "O produto misto é uma operação matemática que realizamos com vetores, misturando o produto escalar com o vetorial, temos a seguinte notação:\n",
        "\n",
        "$\\vec{u}$ . $\\vec{v}$ X $\\vec{w}$ ou ($\\vec{u}$,$\\vec{v}$,$\\vec{w}$)\n",
        "\n",
        "\n",
        "###Propriedades do produto misto (pág.94,95)\n",
        "\n",
        "$1ª$ O produto misto ($\\vec{u}$,$\\vec{v}$,$\\vec{w}$) muda seu sinal se trocarmos a posição de dois vetores.\n",
        "\n",
        "**Exemplo:** Vamos supor que o produto misto entre três vetores ($\\vec{u}$,$\\vec{v}$,$\\vec{w}$) deu $27$.\n",
        "\n",
        "($\\vec{v}$,$\\vec{u}$,$\\vec{w}$)= $-27$ (Permuta de $\\vec{u}$ e $\\vec{v}$)\n",
        "\n",
        "($\\vec{u}$,$\\vec{v}$,$\\vec{w}$)=$-27$ (Permuta de $\\vec{u}$ e $\\vec{w}$)\n",
        "\n",
        "($\\vec{u}$,$\\vec{v}$,$\\vec{w}$)=$-27$ (Permuta de $\\vec{v}$ e $\\vec{w}$)\n",
        "\n",
        "Se realizarmos novamente a permuta em um dos três produtos mistos, o valor retorna a ser $27$.\n",
        "\n",
        "Em relação ao produto misto ($\\vec{u}$,$\\vec{v}$,$\\vec{w}$).\n",
        "\n",
        "$a)$**Uma permutação** - haverá troca de sinal;\n",
        "\n",
        "$b)$**Duas permutações** - não altera o valor;\n",
        "\n",
        "$2ª$ Para essa propriedade vamos utilizar quatro vetores, $\\vec{u}$, $\\vec{v}$, $\\vec{w}$ e $\\vec{x}$.\n",
        "\n",
        "($\\vec{u}$+$\\vec{x}$,$\\vec{v}$,$\\vec{w}$)=($\\vec{u}$,$\\vec{v}$,$\\vec{w}$)+($\\vec{x}$,$\\vec{v}$,$\\vec{w}$)\n",
        "\n",
        "($\\vec{u}$,$\\vec{v}$+$\\vec{x}$,$\\vec{w}$)=($\\vec{u}$,$\\vec{v}$,$\\vec{w}$)+($\\vec{u}$,$\\vec{x}$,$\\vec{w}$)\n",
        "\n",
        "($\\vec{u}$,$\\vec{v}$,$\\vec{w}$+$\\vec{x}$)=($\\vec{u}$,$\\vec{v}$,$\\vec{w}$)+($\\vec{u}$,$\\vec{v}$,$\\vec{x}$)\n",
        "\n",
        "$3ª$ Para essa propriedade vamos utilizar três vetores, $\\vec{u}$, $\\vec{v}$, $\\vec{w}$ e o escalar $α$.\n",
        "\n",
        "($α$$\\vec{u}$,$\\vec{v}$,$\\vec{w}$)=($\\vec{u}$,$α$$\\vec{v}$,$\\vec{w}$)=($\\vec{u}$,$\\vec{v}$,$α$$\\vec{w}$)=$α$($\\vec{u}$,$\\vec{v}$,$\\vec{w}$)\n",
        "\n",
        "\n",
        "$4ª$ ($\\vec{v}$,$\\vec{u}$,$\\vec{w}$)=0 se, e somente se, os três vetores estiverem no mesmo plano."
      ],
      "metadata": {
        "id": "t_zseUZKwHbZ"
      }
    },
    {
      "cell_type": "markdown",
      "source": [
        "###Cálculo do produto misto entre três vetores (pág.93)\n",
        "\n",
        "Para o cálculo do produto misto $\\vec{u}$ . $\\vec{v}$ X $\\vec{w}$ utilizaremos os vetores genéricos, $\\vec{u}=(x_{1},y_{1},z_{1})$, $\\vec{v}$=$(x_{2}, y_{2}, z_{2})$ e $\\vec{w}$=$(x_{3}, y_{3}, z_{3})$.\n",
        "\n",
        "Para determinar tal operação utilizaremos novamente o conceito de matriz, sendo montada na mesma sequência indicada na operação $\\vec{u}$ . $\\vec{v}$ X $\\vec{w}$:\n",
        "\n",
        "($\\vec{u}$.$\\vec{v}$X$\\vec{w}$)=$\\begin{vmatrix}\n",
        "x_{1} & y_{1} & z_{1} \\\\\n",
        "x_{2} & y_{2} & z_{2} \\\\\n",
        "x_{3} &  y_{3}& z_{3}\n",
        "\\end{vmatrix}$\n",
        "\n",
        "O produto misto tem como resultado sempre um escalar.\n",
        "\n",
        "**Exemplo 1**:Calcular o produto misto dos vetores $\\vec{u}$=$2\\hat{i} + 3\\hat{j} + 5\\hat{k}$, $\\vec{v}$=$-\\hat{i} + 3\\hat{j} + 3\\hat{k}$ e $\\vec{w}$=$4\\hat{i} - 3\\hat{j} + 2\\hat{k}$\n",
        "\n",
        "**Resolução:**($\\vec{u}$,$\\vec{v}$,$\\vec{w}$)= $\\begin{vmatrix}\n",
        "2 & 3 & 5 \\\\\n",
        "-1 & 3 & 3 \\\\\n",
        "4 & -3& 2\n",
        "\\end{vmatrix}$=$\\begin{vmatrix}\n",
        "3 & 3\\\\\n",
        "-3 & 2\n",
        "\\end{vmatrix}$ $2$ - $\\begin{vmatrix}\n",
        "-1 &  3\\\\\n",
        "4 & 2\n",
        "\\end{vmatrix}$$3$ + $\\begin{vmatrix}\n",
        "-1 & 3\\\\\n",
        "4 & -3\n",
        "\\end{vmatrix}$$5$=$(6 + 9)2$ - $(-2 - 12)3$ + $(3 - 12)5$= $27$\n",
        "\n",
        "\n",
        "\n",
        "**Exemplo 2**:Verificar se são coplanares os vetores $\\vec{u}$=$(2,-1,1)$, $\\vec{v}$=$(1,0,-1)$ e $\\vec{w}$=$(2,-1,4)$.\n",
        "\n",
        "**Resolução:**Sabemos que três vetores são coplanares, se e somente se, o determinante for igual a 0. Calculando o determinante.\n",
        "\n",
        "($\\vec{u}$,$\\vec{v}$,$\\vec{w}$)=$\\begin{vmatrix}\n",
        "2 & -1 & 1 \\\\\n",
        "1 & 0 & -1 \\\\\n",
        "2 & -1& 4\n",
        "\\end{vmatrix}$ =$\\begin{vmatrix}\n",
        "0 & -1\\\\\n",
        "-1 & 4\n",
        "\\end{vmatrix}$ $2$ - $\\begin{vmatrix}\n",
        "1 & -1\\\\\n",
        "2 & 4\n",
        "\\end{vmatrix}$$-1$ + $\\begin{vmatrix}\n",
        "1 & 0\\\\\n",
        "2 & -1\n",
        "\\end{vmatrix}1$ = $(0 - 1)2$ - $(4 + 2)-1$ + $(-1 - 0)1$ = $3$ ≠ $0$, sendo assim os vetores não são coplanares.\n"
      ],
      "metadata": {
        "id": "-Fy810sBwTcT"
      }
    },
    {
      "cell_type": "markdown",
      "source": [
        "###Parte computacional - Produto misto"
      ],
      "metadata": {
        "id": "HogG1l6nwgZR"
      }
    },
    {
      "cell_type": "code",
      "source": [
        "#Cálculo do produto misto entre dois vetores\n",
        "\n",
        "import numpy as np\n",
        "\n",
        "def produto_misto(u, v, w):\n",
        "\n",
        "# Calcula o produto vetorial entre u e v:\n",
        "\n",
        "    produto_vetorial = np.cross(u, v)\n",
        "\n",
        "# Calcula o produto escalar entre o produto vetorial e w:\n",
        "\n",
        "    produto_misto = np.dot(produto_vetorial, w)\n",
        "\n",
        "    return produto_misto\n",
        "\n",
        "# Vetores de exemplo:\n",
        "\n",
        "u = np.array([2, 3, 5])\n",
        "v = np.array([-1, 3, 3])\n",
        "w = np.array([4, -3, 2])\n",
        "\n",
        "# Calcula o produto misto:\n",
        "\n",
        "resultado = produto_misto(u, v, w)\n",
        "print(\"O produto misto entre os três vetores é:\", resultado)"
      ],
      "metadata": {
        "id": "-mPR885nwfiD"
      },
      "execution_count": null,
      "outputs": []
    },
    {
      "cell_type": "code",
      "source": [
        "#Cálculo do produto misto entre dois vetores - Representação geral\n",
        "\n",
        "import numpy as np\n",
        "\n",
        "# Função para calcular o produto misto:\n",
        "\n",
        "def produto_misto(u, v, w):\n",
        "\n",
        "# Calcula o produto vetorial entre u e v:\n",
        "\n",
        "    produto_vetorial = np.cross(u, v)\n",
        "\n",
        "# Calcula o produto escalar entre o produto vetorial e w:\n",
        "    produto_misto = np.dot(produto_vetorial, w)\n",
        "\n",
        "    return produto_misto\n",
        "\n",
        "# Entrada dos vetores\n",
        "x, y, z = np.array([float(i) for i in input('Digite o valor das componentes x, y e z do vetor u: ').split()])\n",
        "x1, y1, z1 = np.array([float(i) for i in input('Digite o valor das componentes x, y e z do vetor v: ').split()])\n",
        "x2, y2, z2 = np.array([float(i) for i in input('Digite o valor das componentes x, y e z do vetor w: ').split()])\n",
        "\n",
        "u = np.array([x, y, z])\n",
        "v = np.array([x1, y1, z1])\n",
        "w = np.array([x2, y2, z2])\n",
        "\n",
        "# Cálcula o produto misto\n",
        "resultado = produto_misto(u, v, w)\n",
        "print(\"O produto misto entre os três vetores é:\", resultado)\n"
      ],
      "metadata": {
        "id": "m4zrAgzGwnzx"
      },
      "execution_count": null,
      "outputs": []
    },
    {
      "cell_type": "markdown",
      "source": [
        "###Volume do paralelepípedo formado pelos vetores (pág.96,97)\n",
        "\n",
        "Para determinar o volume $(V)$ do paralelepípedo utilizaremos a seguinte fórmula:\n",
        "\n",
        "$V$=| ($\\vec{u}$, $\\vec{v}$, $\\vec{w}$) |, portanto o volume é determinado pelo módulo do produto misto.\n",
        "\n",
        "**Exemplo**:Determine o volume do paralelepípedo formado pelos vetores $\\vec{u}$=$(2,-1,1)$, $\\vec{v}$=$(1,0,-1)$ e $\\vec{w}$=$(2,-1,4)$.\n",
        "\n",
        "**Resolução:**Calculamos anteriormente o produto misto dos três vetores ($\\vec{u}$, $\\vec{v}$, $\\vec{w}$)=$3$.\n",
        "\n",
        "O volume do paralelepípedo será determinado por $V$=| ($\\vec{u}$, $\\vec{v}$, $\\vec{w}$) |= $|3|$= $3 u.v$\n"
      ],
      "metadata": {
        "id": "wS_Qp1Efwtbi"
      }
    },
    {
      "cell_type": "markdown",
      "source": [
        "###Parte computacional - Volume através do produto misto"
      ],
      "metadata": {
        "id": "Wu4DE4cOwvcb"
      }
    },
    {
      "cell_type": "code",
      "source": [
        "#Cálculo do volume do paralelepípedo formado pelos vetores.\n",
        "\n",
        "import numpy as np\n",
        "\n",
        "def produto_misto(u, v, w):\n",
        "\n",
        "    # Calcula o produto vetorial entre u e v:\n",
        "\n",
        "    produto_vetorial = np.cross(u, v)\n",
        "\n",
        "    # Calcula o produto escalar entre o produto vetorial e w:\n",
        "\n",
        "    produto_misto = np.dot(produto_vetorial, w)\n",
        "\n",
        "    return produto_misto\n",
        "\n",
        "# Vetores de exemplo\n",
        "\n",
        "u = np.array([2, 3, 5])\n",
        "v = np.array([4, -3, 2])\n",
        "w = np.array([-1, 3, 3])\n",
        "\n",
        "# Calcula o produto misto:\n",
        "\n",
        "resultado = produto_misto(u, v, w)\n",
        "print(\"O produto misto entre os três vetores é:\", resultado)\n",
        "\n",
        "# Calcula o módulo do resultado:\n",
        "\n",
        "modulo_resultado = np.abs(resultado)\n",
        "print(\"O volume do paralelepípedo é:\", modulo_resultado)"
      ],
      "metadata": {
        "id": "mp8QxMiFwzIa"
      },
      "execution_count": null,
      "outputs": []
    },
    {
      "cell_type": "code",
      "source": [
        "##Cálculo do volume do paralelepípedo formado pelos vetores - Representação geral\n",
        "\n",
        "import numpy as np\n",
        "\n",
        "# Função para calcular o produto misto:\n",
        "\n",
        "def produto_misto(u, v, w):\n",
        "\n",
        "# Calcula o produto vetorial entre u e v:\n",
        "\n",
        "    produto_vetorial = np.cross(u, v)\n",
        "\n",
        "# Calcula o produto escalar entre o produto vetorial e w:\n",
        "    produto_misto = np.dot(produto_vetorial, w)\n",
        "\n",
        "    return produto_misto\n",
        "\n",
        "# Entrada dos vetores\n",
        "x, y, z = np.array([float(i) for i in input('Digite o valor das componentes x, y e z do vetor u: ').split()])\n",
        "x1, y1, z1 = np.array([float(i) for i in input('Digite o valor das componentes x, y e z do vetor v: ').split()])\n",
        "x2, y2, z2 = np.array([float(i) for i in input('Digite o valor das componentes x, y e z do vetor w: ').split()])\n",
        "\n",
        "u = np.array([x, y, z])\n",
        "v = np.array([x1, y1, z1])\n",
        "w = np.array([x2, y2, z2])\n",
        "\n",
        "# Cálcula o produto misto\n",
        "resultado = produto_misto(u, v, w)\n",
        "print(\"O produto misto entre os três vetores é:\", resultado)\n",
        "\n",
        "# Cálcula o volume:\n",
        "\n",
        "modulo_resultado = np.abs(resultado)\n",
        "print(\"O volume do paralelepípedo formado pelos três vetores é:\", modulo_resultado)"
      ],
      "metadata": {
        "id": "kJR95cq-w5Ey"
      },
      "execution_count": null,
      "outputs": []
    }
  ]
}